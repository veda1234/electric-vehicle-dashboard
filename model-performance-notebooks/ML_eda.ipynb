{
 "cells": [
  {
   "attachments": {},
   "cell_type": "markdown",
   "metadata": {},
   "source": [
    "<h3>This notebook is used for EDA for the ML section</h3>"
   ]
  },
  {
   "cell_type": "code",
   "execution_count": 3,
   "metadata": {},
   "outputs": [],
   "source": [
    "import pandas as pd\n",
    "import numpy as np\n",
    "import matplotlib.pyplot as plt\n",
    "import seaborn as sns"
   ]
  },
  {
   "attachments": {},
   "cell_type": "markdown",
   "metadata": {},
   "source": [
    "# EDA"
   ]
  },
  {
   "cell_type": "code",
   "execution_count": 6,
   "metadata": {},
   "outputs": [
    {
     "data": {
      "text/html": [
       "<div>\n",
       "<style scoped>\n",
       "    .dataframe tbody tr th:only-of-type {\n",
       "        vertical-align: middle;\n",
       "    }\n",
       "\n",
       "    .dataframe tbody tr th {\n",
       "        vertical-align: top;\n",
       "    }\n",
       "\n",
       "    .dataframe thead th {\n",
       "        text-align: right;\n",
       "    }\n",
       "</style>\n",
       "<table border=\"1\" class=\"dataframe\">\n",
       "  <thead>\n",
       "    <tr style=\"text-align: right;\">\n",
       "      <th></th>\n",
       "      <th>year</th>\n",
       "      <th>co2_emissions</th>\n",
       "      <th>gdp</th>\n",
       "      <th>gas_price</th>\n",
       "      <th>ev</th>\n",
       "    </tr>\n",
       "  </thead>\n",
       "  <tbody>\n",
       "    <tr>\n",
       "      <th>0</th>\n",
       "      <td>2001</td>\n",
       "      <td>1855.78</td>\n",
       "      <td>37133.62</td>\n",
       "      <td>1.460</td>\n",
       "      <td>20282</td>\n",
       "    </tr>\n",
       "    <tr>\n",
       "      <th>1</th>\n",
       "      <td>2002</td>\n",
       "      <td>1895.48</td>\n",
       "      <td>37997.76</td>\n",
       "      <td>1.386</td>\n",
       "      <td>36042</td>\n",
       "    </tr>\n",
       "    <tr>\n",
       "      <th>2</th>\n",
       "      <td>2003</td>\n",
       "      <td>1912.60</td>\n",
       "      <td>39490.27</td>\n",
       "      <td>1.603</td>\n",
       "      <td>47566</td>\n",
       "    </tr>\n",
       "    <tr>\n",
       "      <th>3</th>\n",
       "      <td>2004</td>\n",
       "      <td>1967.47</td>\n",
       "      <td>41724.63</td>\n",
       "      <td>1.895</td>\n",
       "      <td>84233</td>\n",
       "    </tr>\n",
       "    <tr>\n",
       "      <th>4</th>\n",
       "      <td>2005</td>\n",
       "      <td>1988.14</td>\n",
       "      <td>44123.41</td>\n",
       "      <td>2.314</td>\n",
       "      <td>205876</td>\n",
       "    </tr>\n",
       "    <tr>\n",
       "      <th>5</th>\n",
       "      <td>2006</td>\n",
       "      <td>2019.53</td>\n",
       "      <td>46302.00</td>\n",
       "      <td>2.618</td>\n",
       "      <td>251864</td>\n",
       "    </tr>\n",
       "    <tr>\n",
       "      <th>6</th>\n",
       "      <td>2007</td>\n",
       "      <td>2022.24</td>\n",
       "      <td>48050.22</td>\n",
       "      <td>2.843</td>\n",
       "      <td>351071</td>\n",
       "    </tr>\n",
       "    <tr>\n",
       "      <th>7</th>\n",
       "      <td>2008</td>\n",
       "      <td>1892.33</td>\n",
       "      <td>48570.05</td>\n",
       "      <td>3.299</td>\n",
       "      <td>315763</td>\n",
       "    </tr>\n",
       "    <tr>\n",
       "      <th>8</th>\n",
       "      <td>2009</td>\n",
       "      <td>1831.78</td>\n",
       "      <td>47194.94</td>\n",
       "      <td>2.406</td>\n",
       "      <td>290273</td>\n",
       "    </tr>\n",
       "    <tr>\n",
       "      <th>9</th>\n",
       "      <td>2010</td>\n",
       "      <td>1845.79</td>\n",
       "      <td>48650.64</td>\n",
       "      <td>2.835</td>\n",
       "      <td>274974</td>\n",
       "    </tr>\n",
       "    <tr>\n",
       "      <th>10</th>\n",
       "      <td>2011</td>\n",
       "      <td>1816.85</td>\n",
       "      <td>50065.97</td>\n",
       "      <td>3.576</td>\n",
       "      <td>286512</td>\n",
       "    </tr>\n",
       "    <tr>\n",
       "      <th>11</th>\n",
       "      <td>2012</td>\n",
       "      <td>1780.38</td>\n",
       "      <td>51784.42</td>\n",
       "      <td>3.680</td>\n",
       "      <td>487819</td>\n",
       "    </tr>\n",
       "    <tr>\n",
       "      <th>12</th>\n",
       "      <td>2013</td>\n",
       "      <td>1807.29</td>\n",
       "      <td>53291.13</td>\n",
       "      <td>3.575</td>\n",
       "      <td>592637</td>\n",
       "    </tr>\n",
       "    <tr>\n",
       "      <th>13</th>\n",
       "      <td>2014</td>\n",
       "      <td>1825.34</td>\n",
       "      <td>55123.85</td>\n",
       "      <td>3.437</td>\n",
       "      <td>571054</td>\n",
       "    </tr>\n",
       "    <tr>\n",
       "      <th>14</th>\n",
       "      <td>2015</td>\n",
       "      <td>1850.23</td>\n",
       "      <td>56762.73</td>\n",
       "      <td>2.520</td>\n",
       "      <td>498423</td>\n",
       "    </tr>\n",
       "    <tr>\n",
       "      <th>15</th>\n",
       "      <td>2016</td>\n",
       "      <td>1887.83</td>\n",
       "      <td>57866.74</td>\n",
       "      <td>2.250</td>\n",
       "      <td>506565</td>\n",
       "    </tr>\n",
       "    <tr>\n",
       "      <th>16</th>\n",
       "      <td>2017</td>\n",
       "      <td>1904.54</td>\n",
       "      <td>59914.78</td>\n",
       "      <td>2.528</td>\n",
       "      <td>558543</td>\n",
       "    </tr>\n",
       "    <tr>\n",
       "      <th>17</th>\n",
       "      <td>2018</td>\n",
       "      <td>1934.22</td>\n",
       "      <td>62805.25</td>\n",
       "      <td>2.813</td>\n",
       "      <td>669028</td>\n",
       "    </tr>\n",
       "    <tr>\n",
       "      <th>18</th>\n",
       "      <td>2019</td>\n",
       "      <td>1939.46</td>\n",
       "      <td>65094.80</td>\n",
       "      <td>2.691</td>\n",
       "      <td>719057</td>\n",
       "    </tr>\n",
       "    <tr>\n",
       "      <th>19</th>\n",
       "      <td>2020</td>\n",
       "      <td>1648.49</td>\n",
       "      <td>63027.68</td>\n",
       "      <td>2.258</td>\n",
       "      <td>762656</td>\n",
       "    </tr>\n",
       "    <tr>\n",
       "      <th>20</th>\n",
       "      <td>2021</td>\n",
       "      <td>1803.32</td>\n",
       "      <td>69287.54</td>\n",
       "      <td>3.100</td>\n",
       "      <td>1431875</td>\n",
       "    </tr>\n",
       "  </tbody>\n",
       "</table>\n",
       "</div>"
      ],
      "text/plain": [
       "    year  co2_emissions       gdp  gas_price       ev\n",
       "0   2001        1855.78  37133.62      1.460    20282\n",
       "1   2002        1895.48  37997.76      1.386    36042\n",
       "2   2003        1912.60  39490.27      1.603    47566\n",
       "3   2004        1967.47  41724.63      1.895    84233\n",
       "4   2005        1988.14  44123.41      2.314   205876\n",
       "5   2006        2019.53  46302.00      2.618   251864\n",
       "6   2007        2022.24  48050.22      2.843   351071\n",
       "7   2008        1892.33  48570.05      3.299   315763\n",
       "8   2009        1831.78  47194.94      2.406   290273\n",
       "9   2010        1845.79  48650.64      2.835   274974\n",
       "10  2011        1816.85  50065.97      3.576   286512\n",
       "11  2012        1780.38  51784.42      3.680   487819\n",
       "12  2013        1807.29  53291.13      3.575   592637\n",
       "13  2014        1825.34  55123.85      3.437   571054\n",
       "14  2015        1850.23  56762.73      2.520   498423\n",
       "15  2016        1887.83  57866.74      2.250   506565\n",
       "16  2017        1904.54  59914.78      2.528   558543\n",
       "17  2018        1934.22  62805.25      2.813   669028\n",
       "18  2019        1939.46  65094.80      2.691   719057\n",
       "19  2020        1648.49  63027.68      2.258   762656\n",
       "20  2021        1803.32  69287.54      3.100  1431875"
      ]
     },
     "execution_count": 6,
     "metadata": {},
     "output_type": "execute_result"
    }
   ],
   "source": [
    "df = pd.read_csv('../data/data_ml.csv')\n",
    "df"
   ]
  },
  {
   "attachments": {},
   "cell_type": "markdown",
   "metadata": {},
   "source": [
    "<h3>Checking for correlation patterns amongst variables using Scatterplot Matrix</h3>\n",
    "<p>Will be helpful in checking for correlation or possible relationships that we can investigate with ML</p>"
   ]
  },
  {
   "cell_type": "code",
   "execution_count": 7,
   "metadata": {},
   "outputs": [
    {
     "data": {
      "text/plain": [
       "array([[<AxesSubplot:xlabel='co2_emissions', ylabel='co2_emissions'>,\n",
       "        <AxesSubplot:xlabel='gdp', ylabel='co2_emissions'>,\n",
       "        <AxesSubplot:xlabel='gas_price', ylabel='co2_emissions'>,\n",
       "        <AxesSubplot:xlabel='ev', ylabel='co2_emissions'>],\n",
       "       [<AxesSubplot:xlabel='co2_emissions', ylabel='gdp'>,\n",
       "        <AxesSubplot:xlabel='gdp', ylabel='gdp'>,\n",
       "        <AxesSubplot:xlabel='gas_price', ylabel='gdp'>,\n",
       "        <AxesSubplot:xlabel='ev', ylabel='gdp'>],\n",
       "       [<AxesSubplot:xlabel='co2_emissions', ylabel='gas_price'>,\n",
       "        <AxesSubplot:xlabel='gdp', ylabel='gas_price'>,\n",
       "        <AxesSubplot:xlabel='gas_price', ylabel='gas_price'>,\n",
       "        <AxesSubplot:xlabel='ev', ylabel='gas_price'>],\n",
       "       [<AxesSubplot:xlabel='co2_emissions', ylabel='ev'>,\n",
       "        <AxesSubplot:xlabel='gdp', ylabel='ev'>,\n",
       "        <AxesSubplot:xlabel='gas_price', ylabel='ev'>,\n",
       "        <AxesSubplot:xlabel='ev', ylabel='ev'>]], dtype=object)"
      ]
     },
     "execution_count": 7,
     "metadata": {},
     "output_type": "execute_result"
    },
    {
     "data": {
      "image/png": "[encoded data removed]",
      "text/plain": [
       "<Figure size 1080x720 with 16 Axes>"
      ]
     },
     "metadata": {
      "needs_background": "light"
     },
     "output_type": "display_data"
    }
   ],
   "source": [
    "pd.plotting.scatter_matrix(df.iloc[:, 1:], alpha=0.7, figsize=(15, 10))"
   ]
  },
  {
   "attachments": {},
   "cell_type": "markdown",
   "metadata": {},
   "source": [
    "<h4><u>Observations</u></h4>\n",
    "\n",
    "<li><u>EV and GDP:</u> There seems to be a strong positive relationship between GDP and EV which makes sense since a rise in GDP means EV is affordable for people in countries that have high GDP.</li>\n",
    "<br>\n",
    "<li><u>EV and Gas Price:</u> Theres also a fairly positive correlation existing between rise in gas prices and EV sales which again makes sense since rises in gas prices prompts more people to switch to EV as an efficient option for saving money on fuel in the long-term.</li>\n",
    "<br>\n",
    "<li><u>EV and CO2 emissions:</u> Although the relationship isnt that evident, with more EV sales, the CO2 emissions drop, since cars stop relying on fossil fuels. Hence, this can be investigated too.</li>\n",
    "<br>\n",
    "<li>CO2, and Gas Price seem to have an outlier but its not clear if there's more. Will be checked in boxplot. However, overall the data looks either symmetrical and slightly positively skewed.</li>"
   ]
  },
  {
   "attachments": {},
   "cell_type": "markdown",
   "metadata": {},
   "source": [
    "<h4>Exploring the Descriptive Statistics</h4>"
   ]
  },
  {
   "cell_type": "code",
   "execution_count": 19,
   "metadata": {},
   "outputs": [
    {
     "data": {
      "text/plain": [
       "Text(0.5, 0.98, 'Box-Plots of each predictor variables')"
      ]
     },
     "execution_count": 19,
     "metadata": {},
     "output_type": "execute_result"
    },
    {
     "data": {
      "image/png": "[encoded data removed]",
      "text/plain": [
       "<Figure size 864x432 with 4 Axes>"
      ]
     },
     "metadata": {
      "needs_background": "light"
     },
     "output_type": "display_data"
    }
   ],
   "source": [
    "# Checking for outliers\n",
    "fig, axs = plt.subplots(1, 4, figsize=(12, 6))\n",
    "fig.tight_layout(pad=3.0)\n",
    "\n",
    "sns.boxplot(y=df['ev'][df['ev'].isin(max(df['ev']))], orient='v', ax=axs[0])\n",
    "sns.boxplot(y=df['co2_emissions'], orient='v', ax=axs[1])\n",
    "sns.boxplot(y=df['gdp'], orient='v', ax=axs[2])\n",
    "sns.boxplot(y=df['gas_price'], orient='v', ax=axs[3])\n",
    "\n",
    "fig.suptitle('Box-Plots of each predictor variables')"
   ]
  },
  {
   "cell_type": "code",
   "execution_count": 14,
   "metadata": {},
   "outputs": [
    {
     "data": {
      "text/plain": [
       "Text(0.5, 0.98, 'Box-Plots of each predictor variables')"
      ]
     },
     "execution_count": 14,
     "metadata": {},
     "output_type": "execute_result"
    },
    {
     "data": {
      "image/png": "[encoded data removed]",
      "text/plain": [
       "<Figure size 864x432 with 4 Axes>"
      ]
     },
     "metadata": {
      "needs_background": "light"
     },
     "output_type": "display_data"
    }
   ],
   "source": [
    "# Checking for outliers\n",
    "fig, axs = plt.subplots(1, 4, figsize=(12, 6))\n",
    "fig.tight_layout(pad=3.0)\n",
    "\n",
    "sns.boxplot(y=df['ev'][df['ev'].apply(lambda x: x != df['ev'].max())], orient='v', ax=axs[0])\n",
    "sns.boxplot(y=df['co2_emissions'], orient='v', ax=axs[1])\n",
    "sns.boxplot(y=df['gdp'], orient='v', ax=axs[2])\n",
    "sns.boxplot(y=df['gas_price'], orient='v', ax=axs[3])\n",
    "\n",
    "fig.suptitle('Box-Plots of each predictor variables')"
   ]
  },
  {
   "cell_type": "code",
   "execution_count": 20,
   "metadata": {},
   "outputs": [
    {
     "data": {
      "text/html": [
       "<div>\n",
       "<style scoped>\n",
       "    .dataframe tbody tr th:only-of-type {\n",
       "        vertical-align: middle;\n",
       "    }\n",
       "\n",
       "    .dataframe tbody tr th {\n",
       "        vertical-align: top;\n",
       "    }\n",
       "\n",
       "    .dataframe thead th {\n",
       "        text-align: right;\n",
       "    }\n",
       "</style>\n",
       "<table border=\"1\" class=\"dataframe\">\n",
       "  <thead>\n",
       "    <tr style=\"text-align: right;\">\n",
       "      <th></th>\n",
       "      <th>co2_emissions</th>\n",
       "      <th>gdp</th>\n",
       "      <th>gas_price</th>\n",
       "      <th>ev</th>\n",
       "    </tr>\n",
       "    <tr>\n",
       "      <th>properties</th>\n",
       "      <th></th>\n",
       "      <th></th>\n",
       "      <th></th>\n",
       "      <th></th>\n",
       "    </tr>\n",
       "  </thead>\n",
       "  <tbody>\n",
       "    <tr>\n",
       "      <th>mean</th>\n",
       "      <td>1877.575714</td>\n",
       "      <td>51631.544286</td>\n",
       "      <td>2.62319</td>\n",
       "      <td>6.818812e+09</td>\n",
       "    </tr>\n",
       "    <tr>\n",
       "      <th>range</th>\n",
       "      <td>1887.830000</td>\n",
       "      <td>50065.970000</td>\n",
       "      <td>2.61800</td>\n",
       "      <td>3.510710e+05</td>\n",
       "    </tr>\n",
       "    <tr>\n",
       "      <th>first_quartile (25%)</th>\n",
       "      <td>373.750000</td>\n",
       "      <td>32153.920000</td>\n",
       "      <td>2.29400</td>\n",
       "      <td>1.431875e+11</td>\n",
       "    </tr>\n",
       "    <tr>\n",
       "      <th>median (50%)</th>\n",
       "      <td>1825.340000</td>\n",
       "      <td>46302.000000</td>\n",
       "      <td>2.25800</td>\n",
       "      <td>2.518640e+05</td>\n",
       "    </tr>\n",
       "    <tr>\n",
       "      <th>third_quartile (75%)</th>\n",
       "      <td>1934.220000</td>\n",
       "      <td>57866.740000</td>\n",
       "      <td>3.10000</td>\n",
       "      <td>5.710540e+05</td>\n",
       "    </tr>\n",
       "    <tr>\n",
       "      <th>interquartile</th>\n",
       "      <td>108.880000</td>\n",
       "      <td>11564.740000</td>\n",
       "      <td>0.84200</td>\n",
       "      <td>3.191900e+05</td>\n",
       "    </tr>\n",
       "    <tr>\n",
       "      <th>min</th>\n",
       "      <td>1648.490000</td>\n",
       "      <td>37133.620000</td>\n",
       "      <td>1.38600</td>\n",
       "      <td>2.028200e+04</td>\n",
       "    </tr>\n",
       "    <tr>\n",
       "      <th>max</th>\n",
       "      <td>2022.240000</td>\n",
       "      <td>69287.540000</td>\n",
       "      <td>3.68000</td>\n",
       "      <td>1.431875e+11</td>\n",
       "    </tr>\n",
       "  </tbody>\n",
       "</table>\n",
       "</div>"
      ],
      "text/plain": [
       "                      co2_emissions           gdp  gas_price            ev\n",
       "properties                                                                \n",
       "mean                    1877.575714  51631.544286    2.62319  6.818812e+09\n",
       "range                   1887.830000  50065.970000    2.61800  3.510710e+05\n",
       "first_quartile (25%)     373.750000  32153.920000    2.29400  1.431875e+11\n",
       "median (50%)            1825.340000  46302.000000    2.25800  2.518640e+05\n",
       "third_quartile (75%)    1934.220000  57866.740000    3.10000  5.710540e+05\n",
       "interquartile            108.880000  11564.740000    0.84200  3.191900e+05\n",
       "min                     1648.490000  37133.620000    1.38600  2.028200e+04\n",
       "max                     2022.240000  69287.540000    3.68000  1.431875e+11"
      ]
     },
     "execution_count": 20,
     "metadata": {},
     "output_type": "execute_result"
    }
   ],
   "source": [
    "def stat_properties(df, col):\n",
    "    mean, median, range, min, max = df[col].mean(), df[col].median(), df[col].max()-df[col].min(), df[col].min(), df[col].max()\n",
    "    first_quart, third_quart, iqr = df[col].quantile(0.25), df[col].quantile(0.75), df[col].quantile(0.75)-df[col].quantile(0.25)\n",
    "    return mean, median, range, first_quart, third_quart, iqr, min, max\n",
    "\n",
    "statistics_data = {}\n",
    "\n",
    "statistics_data['properties'] = ['mean', 'range', 'first_quartile (25%)', 'median (50%)', 'third_quartile (75%)', 'interquartile', 'min', 'max']\n",
    "\n",
    "for column in list(df.columns[1:]):\n",
    "    mean, median, range, fq, tq, iqr, min, max = stat_properties(df.iloc[:,1:], column)\n",
    "    statistics_data[column] = [mean, median, range, fq, tq, iqr, min, max]\n",
    "\n",
    "\n",
    "pd.DataFrame(statistics_data).set_index('properties')"
   ]
  },
  {
   "attachments": {},
   "cell_type": "markdown",
   "metadata": {},
   "source": [
    "<h4><u>Observations</u></h4>\n",
    "\n",
    "<li><u>EV:</u> This feature has one outlier and this was in 2021 which again aligns with the boom in EV sales in US.</li>\n",
    "<br>\n",
    "<li><u>Gas Price:</u> They do not have any outliers and the data distribution is fairly symmetric.</li>\n",
    "<br>\n",
    "<li><u>CO2 emissions:</u> This feature has one outlier which can affect the model, so this will be investigated as we may need to ignore while training the regression model as it can be affected by outliers.</u></li>\n",
    "<br>\n",
    "<li><u>GDP:</u> GDP is positively skewed</li>"
   ]
  }
 ],
 "metadata": {
  "kernelspec": {
   "display_name": "base",
   "language": "python",
   "name": "python3"
  },
  "language_info": {
   "codemirror_mode": {
    "name": "ipython",
    "version": 3
   },
   "file_extension": ".py",
   "mimetype": "text/x-python",
   "name": "python",
   "nbconvert_exporter": "python",
   "pygments_lexer": "ipython3",
   "version": "3.8.3"
  },
  "orig_nbformat": 4,
  "vscode": {
   "interpreter": {
    "hash": "40d3a090f54c6569ab1632332b64b2c03c39dcf918b08424e98f38b5ae0af88f"
   }
  }
 },
 "nbformat": 4,
 "nbformat_minor": 2
}
