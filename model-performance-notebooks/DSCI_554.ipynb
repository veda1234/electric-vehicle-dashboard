{
  "nbformat": 4,
  "nbformat_minor": 0,
  "metadata": {
    "colab": {
      "provenance": []
    },
    "kernelspec": {
      "name": "python3",
      "display_name": "Python 3"
    },
    "language_info": {
      "name": "python"
    }
  },
  "cells": [
    {
      "cell_type": "markdown",
      "source": [
        "# Single variable regression"
      ],
      "metadata": {
        "id": "LWGhVduCF_M9"
      }
    },
    {
      "cell_type": "code",
      "source": [
        "# import all libraries\n",
        "import numpy as np\n",
        "import pandas as pd\n",
        "import matplotlib.pyplot as plt \n",
        "import seaborn as sns\n",
        "import re\n",
        "\n",
        "import sklearn\n",
        "from sklearn.model_selection import train_test_split\n",
        "from sklearn.preprocessing import MinMaxScaler\n",
        "from sklearn.preprocessing import PolynomialFeatures\n",
        "from sklearn.preprocessing import scale\n",
        "from sklearn.feature_selection import RFE\n",
        "from sklearn.linear_model import LinearRegression\n",
        "from sklearn.model_selection import cross_val_score\n",
        "from sklearn.model_selection import KFold\n",
        "from sklearn.model_selection import GridSearchCV\n",
        "from sklearn.pipeline import make_pipeline\n",
        "\n",
        "import warnings # supress warnings\n",
        "warnings.filterwarnings('ignore')"
      ],
      "metadata": {
        "id": "m4AhYSTkGAUv"
      },
      "execution_count": 1,
      "outputs": []
    },
    {
      "cell_type": "markdown",
      "source": [
        "We already know simple linear regression:\n",
        "\n",
        "![Screen Shot 2022-12-01 at 1.45.56 PM.png](data:image/png;base64,iVBORw0KGgoAAAANSUhEUgAAAPAAAABWCAYAAADxEBthAAABamlDQ1BrQ0dDb2xvclNwYWNlSVRVUl8yMDIwAAAokWNgYNJJLCjIYWFgYMjNKykKcndSiIiMUmB/wMDIwMogwGDJoJ6YXFzgGBDgA1TCAKNRwbdrQNVAcFkXZFY4t3TZsQUBq+bnBPfu07X7gKkeBXClpBYnA+k/QJyfXFBUwsDAmANkK5eXFIDYE4BskSKgo4DsJSB2OoS9A8ROgrDPgNWEBDkD2Q+AbIXkjMQUBgYmkPk6SUji6UhsqL0gIBqUmqyn4BkSqhuk4BSiZ2RgZKBrSMDdJIOS1IoSEO2cX1BZlJmeUaLgCAytVAXPvGQ9HQUjA0MzBgZQ2ENUfw4Ehymj2BmE2JpMBgb3/P///zcixLSAYmseMzCwr0WIKTAzMHCvZWA4/a8gsSgRLAQUYWCyeMLA8AIYH+ICDAwgtsie4jRjI7A8I48TAwPrvf//P6sBzZrMwPB3wv//vxf9//93MVDzHQaGA3kAWuRoHHs2YjEAAACKZVhJZk1NACoAAAAIAAQBGgAFAAAAAQAAAD4BGwAFAAAAAQAAAEYBKAADAAAAAQACAACHaQAEAAAAAQAAAE4AAAAAAAAAkAAAAAEAAACQAAAAAQADkoYABwAAABIAAAB4oAIABAAAAAEAAADwoAMABAAAAAEAAABWAAAAAEFTQ0lJAAAAU2NyZWVuc2hvdBLLxp8AAAAJcEhZcwAAFiUAABYlAUlSJPAAAAHVaVRYdFhNTDpjb20uYWRvYmUueG1wAAAAAAA8eDp4bXBtZXRhIHhtbG5zOng9ImFkb2JlOm5zOm1ldGEvIiB4OnhtcHRrPSJYTVAgQ29yZSA2LjAuMCI+CiAgIDxyZGY6UkRGIHhtbG5zOnJkZj0iaHR0cDovL3d3dy53My5vcmcvMTk5OS8wMi8yMi1yZGYtc3ludGF4LW5zIyI+CiAgICAgIDxyZGY6RGVzY3JpcHRpb24gcmRmOmFib3V0PSIiCiAgICAgICAgICAgIHhtbG5zOmV4aWY9Imh0dHA6Ly9ucy5hZG9iZS5jb20vZXhpZi8xLjAvIj4KICAgICAgICAgPGV4aWY6UGl4ZWxZRGltZW5zaW9uPjg2PC9leGlmOlBpeGVsWURpbWVuc2lvbj4KICAgICAgICAgPGV4aWY6UGl4ZWxYRGltZW5zaW9uPjI0MDwvZXhpZjpQaXhlbFhEaW1lbnNpb24+CiAgICAgICAgIDxleGlmOlVzZXJDb21tZW50PlNjcmVlbnNob3Q8L2V4aWY6VXNlckNvbW1lbnQ+CiAgICAgIDwvcmRmOkRlc2NyaXB0aW9uPgogICA8L3JkZjpSREY+CjwveDp4bXBtZXRhPgolALHJAAAAHGlET1QAAAACAAAAAAAAACsAAAAoAAAAKwAAACsAAARTgJ9W1AAABB9JREFUeAHsnUsobVEYx/+HPFMmBkyYyEgGHqVkwgChyARJHmXqMbiKTOQ9QJIBKaUUGVCeIa85xUTyLO+bUCTPc/deg9PZnXNHN3uf7+7/Hu29vpP1X7/v++9vnXUGHE7tAi8SIAGRBBw0sMi8UTQJKAI0MAuBBAQToIEFJ4/SSYAGZg2QgGACNLDg5FE6CdDArAESEEyABhacPEonARqYNUACggnQwIKTR+kkQAOzBkhAMAEaWHDyKJ0EaGDWAAkIJkADC04epZMADcwaIAHBBGhgwcmjdBKggVkDJCCYAA0sOHmUTgI0MGuABAQToIEFJ4/SSYAGZg2QgGACNLDg5FE6CdDArAESEEyABhacPEonARqYNUACggnQwIKTR+kkQAOzBkhAMAEaWHDyKJ0EaGDWAAkIJkADC04epZMADcwaIAHBBGhgwcmjdBKggVkDJCCYAA0sOHmUTgI0sI/UgPaP1nF8fIydnR28v78jNTUVsbGxPqLON2Q8Pz9jd3cXBwcHiI6ORkZGBgICAnxDnEUqaGCLwLtPe3h4iPb2dpyenrqG/f390dDQgPz8fNeYXW8+Pj4wNjaGiYkJfH19uTDoL7iBgQGEhYW5xux2QwNbnPGpqSmMjIwgLy8PKSkpOD8/x/DwsCrU4OBgVbQREREWq7Ru+t93d/jV2Ag/Pz/k5uYiMjJSMdnb21OiioqKUFtba51Ai2emgS1MgG7c8fFxNDc3Iysry6VE7yrT09PquampCdnZ2a6YnW4uLy9RX1+vOuzg4CBCQ0PV8p+enlBYWIjPz09ERUVhcnLSTlgMa6WBDTjMe5iZmUFvby8SExPR399vmHh7e1uZWh+sqKhAVVWVIW72w9HREW5vbxEeHo74+HhTpn99fUV1dTUuLi6gmzchIcEwb2VlpToz0Dvz+vo6HA6HIW6bB+3whJfJBLRtsjMzM9OZnp7u3Nra8pj95uZGxfT47OysR9zsge7ubqWnrq7OtKnb2trUnNoLzOucnZ2dKl5QUOA1bpdBdmALXtVdXV1YWFhAYGAg5ufnERQUZFChd53S0lI1NjQ0ZFrXM4hwe+jp6cHc3BySkpLQ19fnFvmZ2+vra5SUlOD7+/uvO5DW1lasrq4iOTlZ7WR+RomAv2qXN5WvrPPx8dHVfbXvd15lraysqO6iFbHXuNmDZndgbcus1q/vQPb3970uV3vBqc8sLy97jdtl0JQOrP8MoB9InJyc4O3tDTk5OR6vNn18Y2NDdSMtcdB/Rvkfr6WlJXR0dKil1dTUoKyszGOZLS0t2NzchK8cYJndgYuLi3F1dYWQkBAsLi6qE2h3SGdnZygvL0dMTAxGR0fVTsY9/i/3Dw8P6rdm/Tu4furt7Xp5ecHa2hru7++RlpaGuLg4bx8zZewPAAAA///iUIbuAAAM4klEQVTtXAXMFccTH4q0aLF/kSAleIKE4sWlBPfiUgjuUNydYMUJDsGhuHux4g4JFtzdXe4/vw13uXd373v37D6O7iTf9+5293bn5nZmZ38zd1EUJgoTbd68mfbt20cHDhygN2/eiFGiRIlC8+bNo1SpUnmMOmvWLJozZ44oq1y5MnXq1Mmj/ls5GThwIG3btk3czuTJkylLlizi+N27d/T999/T3r17qVevXlS6dGnq0aPHV3HbI0aMoHXr1lHOnDlpzJgxYeXp5s2bVKdOHTFGrly56K+//hLHHz58oGjRotGLFy+oX79+dO7cOZo4cSKlTZs2aH4eP35Ms2fPphMnTtD169dJVYnq1atT27ZtCXNWpavXrlKnjp3o4cOHoihJkiT0999/q9WO/0YJpwKrd/P69Wtq164dXbhwQRRVq1aN2rdvr1aL3yVLltCkSZPEcfz48WnNmjUe9XZO0H+ohVmsWDH69ddf7Qzvsw0mRqVKlejp06dCWTds2EA3btygbt260b179yhWrFgEWbVo0UKbxD47daCBkwq8YsUKGjt2rLirxo0b0x9//CGUeP369UKxvvvuO0qWLBmBJ/yGgmA8Hzx4QDFjxqQjR47QhAkT6Pnz56JrPJty5cqJ45cvX1KzZs3E84sTJ454Zr///ju1adMmFGwE1IcjCgzO9u/fLyYqjjNlykTTpk3DoUaY3FOmTKFFixaJ1Xn+/Pland2DPXv2iNXLbns77Zo0aUINGjSw09Rnm8uXL4sJiYY5cuSgcePG0bNnz4T1jx07Nl25ckWswIkTJxbGLFQT1CdjPho4qcC9e/em3bt3C46gSNmzZ6cdO3bQsWPHhMLOnTuX3r59Kwxc8+bNfXAeWPWhQ4eoc+fO4uIUKVLQggULxCrcpUsXSpQoEeE3atSo9P79e4oRI0Zgg4ToKscUGNYLlgyKCuuF1ceKKlSoINphFfKXzpw5o7nh/l7rrX2ZMmWoRIkS3qr9KtevLlhZsMLoSe8+li9fnrp27aqvjrRjJxW4YsWKYoWDYmzcuJGiR4/ucd/6LQjkCWMXDvrzzz/p8OHDouuRI0fSkydPxNYPrnZkK63+fh1TYAxat25d4TLiGAoMRdYTJnD9+vWFxUuePLm+6ps4xt7tn3/+EfeC1RersJ5evXpFMBigDBky0IwZM/TV4hh7v3///ZeuXbsmjGHu3Lnpt99+E+6fqbGNAngAnz59irAl9prYt2fLlo2gQBER9osJEiSIqInXOuw/69WrJ+qx8mIFNhLktnz5clE8bNgwKlCggLGJOMdWBNuypEmTajK1bOil8NSpU5prDBmfP3+ehg4dKmTg5RLL4mD5sOxUV+ioAsMtgXsCmjlzJqVPn17HCol9DQq+lpXHg7kQnACcA2CCVQUGDKCVnrAfhpEDxY0bl7Dv0xOApFGjRtGgQYOoYMGC9OjRI+rbty9hX4hVAns4f6lRo0Z06dIlfy/z2h5bAaycgdDq1atp9OjR4lIY8qZNm5q66d+/v3CpUQFcBUCTngCWLlu2jBYvXiwAL7jZqkz17ewc16xZk+7cuSOaArvAqmyXQslHRGM6qsCYfCo4BWuGSagSrC+EDYQ6XG6ROlZk/Ord46xZs2qAnZ6XgwcPiv0VyoBOA6VWaffuXdSnT1+CEejYsaNaTOgX7jj6DAQh/poUWO8e416AehsJc+Ts2bOiGPMpT548WhO4udgvAxlW3d5gFHj69OliPmIAeE92t1Kh5kO7QYsDRxUYwJQKXhmtJ6wb3EYI/FskrJ7YS4KwIljd59KlS0VoBG2wF1SBFJxjRYLbDBDn559/RpFGAFWg/HB14eb6Q0Du1RCft+sALCIciOeDsEpEBG8AxiQQQnQCaDDCRfBQfvjhB49ugJ8AI1ERYqzY3tx1VSbBKDC2O1BcENxo1TvwYMrHSSj4iGgIRxV469atwv0DQ3BPWrduLXhD7BOTGxMFLligBFcQihJKyp8/v4eVD7TvwYMH05YtW8TlWB3y5s1r6grhCOy9QDBocNtAAOdatWpFP/74I61du1aU6f8tXLhQIPjFixcnuJihJidALLiqmBOgzJkz09SpU023cfToUc37SJgwIa1atcrURi3o3r27MDqBKjBCS/BOgBEg9gzDtHLlSq8GQx3X+BssH8b+jOeOKvDp06c1pS1SpIhQZlhThGkweUuWLGnkz6/zrzmMpO6nEH7A6mLcr2IC16pVS4t1AoCBKwgaP3682NfBXYTbaKTjx4+LuDr21gCb9IkHxraBnDuhwJs2bRIgEfirXbs2tWzZ0sTqkCFDCMlBIF8ofbCKAwOCbR28CXUr06FDB6pataqJr4gKguUjor5R56gCI3tFFYAaC8aKAfQVq1KwdPLkSUvLHUy/cGWRFRUMPbh/n6p9AVsyZsxI2FsZSZ+Jpho3tU3Pnj1FfBgGDqCVka5evarFqpczgPO/n34yNgnq3AkFHj58uAba4Riej57g5lepUkUkusBAQV4RZWEFozgXL14UmYBzODMQbjtce/wacQk9f96Og+HDW58e5cyYY/T582eFM5uUQoUKKeweKtu3b1dKlSql3L171zEeImMgdp3FPeO+OTRiYoFdf4WVU7TB7+3btz3aMBor6jit0KNcPbl/757WP7vganHIflmhRP+8AoWsT2NHvOqKMdh4KZwzYKxWGHnX7pGNvaneWMAZVKI94y7GqgjP2VAoHMpSGGzV2jFeo43NXqRWzniOwouSdm51ECgfVn1ZlcGyOErsSgphFC5cWClbtqzCMT1Hx4+MwTDhoLz4YzffgwWOEyoMaok6XukVDrN51OOEQyWint06Ux0K0IfaP7vQlm2CKQy3AnM4TOOf950mVnnfr9VzppbCmVimNsYCu4rD+ILCKbwKr7rCcEJZca2eeMujjc+uvTAwKGNQS9/M8tguH5YX2yh0XIEZxdSEwS8s2GDR/U1g0VUF4xCIdkNYOSED1MGwMcqs1ekPGCMQbTDRrIhBFq1/BgStmgRVFm4FhiemygcTHp6aShxTVjh8I+phwPR1ahurX7uKo382WFTwHCBPPXHKpGZEwSfa4ToYTl9klw9f/Xird3QPDN9dRWOBIiItzVsYwMPPd/EJXlwAmswPgOLFiyd+f/nlF4FuIp4JdBMvTAC0AcpsRQBPkAvsDbjRI7gI0wFfCCWFew+MmC8QXhDmBeZEypQpCXvRW7duUbp06USGFlB2u2R376nP7EqdOrUAVo1hOoy5c+dOGjBggMhaw94bYCLyon2RXT589eO13ptmh6ucb1wpWrSowq9uhWuIr6rfXbt2aqsLo5kKT0gFqwr+IAM7VpwTHEQfffr0sbw3juVqY3Ac1bJNMIXhXoEbNmwo+Ff3vxxzVjjGq8Cb8OaV+Loff1Y+folE4RRV5ePHjxF2C2xC70FF2PhLpT982OnP2MZRFxr7DYBYHO818vHNnvOrcZpyGfe/dm+aQyyiD4BZVsRv74h6DkNZVQddxkkiCseaFc5yCrovYwccZxUuKVxTq/2vsb3d83ArztfCh2MKDOvFIRmF3RC79/5NtOM3jjQFZnc6oHviMJvC7qPwXKxWbNVI8MsPAfUfmRdhlVX3v95Q9kD4kwociNS+XAMonhMzFIAvHJtV4KIASQWCxxkuQfTsrksRDoFbiAnKX5kIinnVjTaCVAB1AKjAs+G86KDGiIyLOf1TU2DO1AsZC5zJJvr1N4wUMga+dBRuPsICYjGqKDb82HgjO4jvhdKkSSNySfG1jf8KIX8YIAbImNvsrwyQyIDUU6T4IYlBfZMJ78QCiEGCh91ke3/HDmd7fDAB+dhIzkBqZChATcgI8obMOM+A8JGAyCAn+AiLAuNtjBo1aojJBsHhrSMGYEzpg5EhVCfHxKdhoGAgILn58uULanhkskGOeH8X2WH4wgevyCJnV82bDmoAhy8GQo+3q9iLsPxKi7/s4LtZ+KQSvv6CrDwQFhBk/wGZd8rAOclHWBQYgkMeKYSIl9bxWZL/IiG/F+//YnVBLjRCRqEgpE7i3WF8EAGpmfiWlhsJIaJdu3YJ1pGm6O+bVG6851DzHDYFDjWjsj8pASkBswSkAptlIkukBFwjAanArnlUklEpAbMEpAKbZSJLpARcIwGpwK55VJJRKQGzBKQCm2UiS6QEXCMBqcCueVSSUSkBswSkAptlIkukBFwjAanArnlUklEpAbMEpAKbZSJLpARcIwGpwK55VJJRKQGzBKQCm2UiS6QEXCMBqcCueVSSUSkBswSkAptlIkukBFwjAanArnlUklEpAbMEpAKbZSJLpARcIwGpwK55VJJRKQGzBKQCm2UiS6QEXCMBqcCueVSSUSkBswSkAptlIkukBFwjAanArnlUklEpAbME/g9pvUSu7OoyWgAAAABJRU5ErkJggg==)\n",
        "\n",
        "In polynomial regression of degree  𝑛 , we fit a curve of the form:\n",
        "\n",
        "![Screen Shot 2022-12-01 at 1.45.09 PM.png](data:image/png;base64,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)"
      ],
      "metadata": {
        "id": "IcEgjc9IpJ1h"
      }
    },
    {
      "cell_type": "markdown",
      "source": [
        "We are trying to fit our data using polynomial regression, and for each model, choosing the best degree"
      ],
      "metadata": {
        "id": "UR9C6M-hpjqn"
      }
    },
    {
      "cell_type": "markdown",
      "source": [
        "## First model: Gas price vs Amount of Electric cars"
      ],
      "metadata": {
        "id": "mNY0Zt2MqmQC"
      }
    },
    {
      "cell_type": "code",
      "source": [
        "# import csv file\n",
        "data = pd.read_csv('data_ml.csv')\n",
        "data.head()"
      ],
      "metadata": {
        "colab": {
          "base_uri": "https://localhost:8080/",
          "height": 206
        },
        "id": "G6Wz1vMMaDjS",
        "outputId": "8e2143bb-3ef0-41af-e76a-75f23e002417"
      },
      "execution_count": 126,
      "outputs": [
        {
          "output_type": "execute_result",
          "data": {
            "text/plain": [
              "   year  co2_emissions       gdp  gas_price      ev\n",
              "0  2001        1855.78  37133.62      1.460   20282\n",
              "1  2002        1895.48  37997.76      1.386   36042\n",
              "2  2003        1912.60  39490.27      1.603   47566\n",
              "3  2004        1967.47  41724.63      1.895   84233\n",
              "4  2005        1988.14  44123.41      2.314  205876"
            ],
            "text/html": [
              "\n",
              "  <div id=\"df-7b0df359-6e63-43df-bc5e-e8c01e20e3d9\">\n",
              "    <div class=\"colab-df-container\">\n",
              "      <div>\n",
              "<style scoped>\n",
              "    .dataframe tbody tr th:only-of-type {\n",
              "        vertical-align: middle;\n",
              "    }\n",
              "\n",
              "    .dataframe tbody tr th {\n",
              "        vertical-align: top;\n",
              "    }\n",
              "\n",
              "    .dataframe thead th {\n",
              "        text-align: right;\n",
              "    }\n",
              "</style>\n",
              "<table border=\"1\" class=\"dataframe\">\n",
              "  <thead>\n",
              "    <tr style=\"text-align: right;\">\n",
              "      <th></th>\n",
              "      <th>year</th>\n",
              "      <th>co2_emissions</th>\n",
              "      <th>gdp</th>\n",
              "      <th>gas_price</th>\n",
              "      <th>ev</th>\n",
              "    </tr>\n",
              "  </thead>\n",
              "  <tbody>\n",
              "    <tr>\n",
              "      <th>0</th>\n",
              "      <td>2001</td>\n",
              "      <td>1855.78</td>\n",
              "      <td>37133.62</td>\n",
              "      <td>1.460</td>\n",
              "      <td>20282</td>\n",
              "    </tr>\n",
              "    <tr>\n",
              "      <th>1</th>\n",
              "      <td>2002</td>\n",
              "      <td>1895.48</td>\n",
              "      <td>37997.76</td>\n",
              "      <td>1.386</td>\n",
              "      <td>36042</td>\n",
              "    </tr>\n",
              "    <tr>\n",
              "      <th>2</th>\n",
              "      <td>2003</td>\n",
              "      <td>1912.60</td>\n",
              "      <td>39490.27</td>\n",
              "      <td>1.603</td>\n",
              "      <td>47566</td>\n",
              "    </tr>\n",
              "    <tr>\n",
              "      <th>3</th>\n",
              "      <td>2004</td>\n",
              "      <td>1967.47</td>\n",
              "      <td>41724.63</td>\n",
              "      <td>1.895</td>\n",
              "      <td>84233</td>\n",
              "    </tr>\n",
              "    <tr>\n",
              "      <th>4</th>\n",
              "      <td>2005</td>\n",
              "      <td>1988.14</td>\n",
              "      <td>44123.41</td>\n",
              "      <td>2.314</td>\n",
              "      <td>205876</td>\n",
              "    </tr>\n",
              "  </tbody>\n",
              "</table>\n",
              "</div>\n",
              "      <button class=\"colab-df-convert\" onclick=\"convertToInteractive('df-7b0df359-6e63-43df-bc5e-e8c01e20e3d9')\"\n",
              "              title=\"Convert this dataframe to an interactive table.\"\n",
              "              style=\"display:none;\">\n",
              "        \n",
              "  <svg xmlns=\"http://www.w3.org/2000/svg\" height=\"24px\"viewBox=\"0 0 24 24\"\n",
              "       width=\"24px\">\n",
              "    <path d=\"M0 0h24v24H0V0z\" fill=\"none\"/>\n",
              "    <path d=\"M18.56 5.44l.94 2.06.94-2.06 2.06-.94-2.06-.94-.94-2.06-.94 2.06-2.06.94zm-11 1L8.5 8.5l.94-2.06 2.06-.94-2.06-.94L8.5 2.5l-.94 2.06-2.06.94zm10 10l.94 2.06.94-2.06 2.06-.94-2.06-.94-.94-2.06-.94 2.06-2.06.94z\"/><path d=\"M17.41 7.96l-1.37-1.37c-.4-.4-.92-.59-1.43-.59-.52 0-1.04.2-1.43.59L10.3 9.45l-7.72 7.72c-.78.78-.78 2.05 0 2.83L4 21.41c.39.39.9.59 1.41.59.51 0 1.02-.2 1.41-.59l7.78-7.78 2.81-2.81c.8-.78.8-2.07 0-2.86zM5.41 20L4 18.59l7.72-7.72 1.47 1.35L5.41 20z\"/>\n",
              "  </svg>\n",
              "      </button>\n",
              "      \n",
              "  <style>\n",
              "    .colab-df-container {\n",
              "      display:flex;\n",
              "      flex-wrap:wrap;\n",
              "      gap: 12px;\n",
              "    }\n",
              "\n",
              "    .colab-df-convert {\n",
              "      background-color: #E8F0FE;\n",
              "      border: none;\n",
              "      border-radius: 50%;\n",
              "      cursor: pointer;\n",
              "      display: none;\n",
              "      fill: #1967D2;\n",
              "      height: 32px;\n",
              "      padding: 0 0 0 0;\n",
              "      width: 32px;\n",
              "    }\n",
              "\n",
              "    .colab-df-convert:hover {\n",
              "      background-color: #E2EBFA;\n",
              "      box-shadow: 0px 1px 2px rgba(60, 64, 67, 0.3), 0px 1px 3px 1px rgba(60, 64, 67, 0.15);\n",
              "      fill: #174EA6;\n",
              "    }\n",
              "\n",
              "    [theme=dark] .colab-df-convert {\n",
              "      background-color: #3B4455;\n",
              "      fill: #D2E3FC;\n",
              "    }\n",
              "\n",
              "    [theme=dark] .colab-df-convert:hover {\n",
              "      background-color: #434B5C;\n",
              "      box-shadow: 0px 1px 3px 1px rgba(0, 0, 0, 0.15);\n",
              "      filter: drop-shadow(0px 1px 2px rgba(0, 0, 0, 0.3));\n",
              "      fill: #FFFFFF;\n",
              "    }\n",
              "  </style>\n",
              "\n",
              "      <script>\n",
              "        const buttonEl =\n",
              "          document.querySelector('#df-7b0df359-6e63-43df-bc5e-e8c01e20e3d9 button.colab-df-convert');\n",
              "        buttonEl.style.display =\n",
              "          google.colab.kernel.accessAllowed ? 'block' : 'none';\n",
              "\n",
              "        async function convertToInteractive(key) {\n",
              "          const element = document.querySelector('#df-7b0df359-6e63-43df-bc5e-e8c01e20e3d9');\n",
              "          const dataTable =\n",
              "            await google.colab.kernel.invokeFunction('convertToInteractive',\n",
              "                                                     [key], {});\n",
              "          if (!dataTable) return;\n",
              "\n",
              "          const docLinkHtml = 'Like what you see? Visit the ' +\n",
              "            '<a target=\"_blank\" href=https://colab.research.google.com/notebooks/data_table.ipynb>data table notebook</a>'\n",
              "            + ' to learn more about interactive tables.';\n",
              "          element.innerHTML = '';\n",
              "          dataTable['output_type'] = 'display_data';\n",
              "          await google.colab.output.renderOutput(dataTable, element);\n",
              "          const docLink = document.createElement('div');\n",
              "          docLink.innerHTML = docLinkHtml;\n",
              "          element.appendChild(docLink);\n",
              "        }\n",
              "      </script>\n",
              "    </div>\n",
              "  </div>\n",
              "  "
            ]
          },
          "metadata": {},
          "execution_count": 126
        }
      ]
    },
    {
      "cell_type": "code",
      "source": [
        "# filter only gas_price and ev\n",
        "df = data.loc[:, ['gas_price', 'ev']]\n",
        "df.head()"
      ],
      "metadata": {
        "colab": {
          "base_uri": "https://localhost:8080/",
          "height": 206
        },
        "id": "4fd33eS2aNcB",
        "outputId": "1115d202-ae0b-4e4a-e3cf-7864c45d7d33"
      },
      "execution_count": 127,
      "outputs": [
        {
          "output_type": "execute_result",
          "data": {
            "text/plain": [
              "   gas_price      ev\n",
              "0      1.460   20282\n",
              "1      1.386   36042\n",
              "2      1.603   47566\n",
              "3      1.895   84233\n",
              "4      2.314  205876"
            ],
            "text/html": [
              "\n",
              "  <div id=\"df-7ede48ad-9008-4d7b-9981-0f1828b1b308\">\n",
              "    <div class=\"colab-df-container\">\n",
              "      <div>\n",
              "<style scoped>\n",
              "    .dataframe tbody tr th:only-of-type {\n",
              "        vertical-align: middle;\n",
              "    }\n",
              "\n",
              "    .dataframe tbody tr th {\n",
              "        vertical-align: top;\n",
              "    }\n",
              "\n",
              "    .dataframe thead th {\n",
              "        text-align: right;\n",
              "    }\n",
              "</style>\n",
              "<table border=\"1\" class=\"dataframe\">\n",
              "  <thead>\n",
              "    <tr style=\"text-align: right;\">\n",
              "      <th></th>\n",
              "      <th>gas_price</th>\n",
              "      <th>ev</th>\n",
              "    </tr>\n",
              "  </thead>\n",
              "  <tbody>\n",
              "    <tr>\n",
              "      <th>0</th>\n",
              "      <td>1.460</td>\n",
              "      <td>20282</td>\n",
              "    </tr>\n",
              "    <tr>\n",
              "      <th>1</th>\n",
              "      <td>1.386</td>\n",
              "      <td>36042</td>\n",
              "    </tr>\n",
              "    <tr>\n",
              "      <th>2</th>\n",
              "      <td>1.603</td>\n",
              "      <td>47566</td>\n",
              "    </tr>\n",
              "    <tr>\n",
              "      <th>3</th>\n",
              "      <td>1.895</td>\n",
              "      <td>84233</td>\n",
              "    </tr>\n",
              "    <tr>\n",
              "      <th>4</th>\n",
              "      <td>2.314</td>\n",
              "      <td>205876</td>\n",
              "    </tr>\n",
              "  </tbody>\n",
              "</table>\n",
              "</div>\n",
              "      <button class=\"colab-df-convert\" onclick=\"convertToInteractive('df-7ede48ad-9008-4d7b-9981-0f1828b1b308')\"\n",
              "              title=\"Convert this dataframe to an interactive table.\"\n",
              "              style=\"display:none;\">\n",
              "        \n",
              "  <svg xmlns=\"http://www.w3.org/2000/svg\" height=\"24px\"viewBox=\"0 0 24 24\"\n",
              "       width=\"24px\">\n",
              "    <path d=\"M0 0h24v24H0V0z\" fill=\"none\"/>\n",
              "    <path d=\"M18.56 5.44l.94 2.06.94-2.06 2.06-.94-2.06-.94-.94-2.06-.94 2.06-2.06.94zm-11 1L8.5 8.5l.94-2.06 2.06-.94-2.06-.94L8.5 2.5l-.94 2.06-2.06.94zm10 10l.94 2.06.94-2.06 2.06-.94-2.06-.94-.94-2.06-.94 2.06-2.06.94z\"/><path d=\"M17.41 7.96l-1.37-1.37c-.4-.4-.92-.59-1.43-.59-.52 0-1.04.2-1.43.59L10.3 9.45l-7.72 7.72c-.78.78-.78 2.05 0 2.83L4 21.41c.39.39.9.59 1.41.59.51 0 1.02-.2 1.41-.59l7.78-7.78 2.81-2.81c.8-.78.8-2.07 0-2.86zM5.41 20L4 18.59l7.72-7.72 1.47 1.35L5.41 20z\"/>\n",
              "  </svg>\n",
              "      </button>\n",
              "      \n",
              "  <style>\n",
              "    .colab-df-container {\n",
              "      display:flex;\n",
              "      flex-wrap:wrap;\n",
              "      gap: 12px;\n",
              "    }\n",
              "\n",
              "    .colab-df-convert {\n",
              "      background-color: #E8F0FE;\n",
              "      border: none;\n",
              "      border-radius: 50%;\n",
              "      cursor: pointer;\n",
              "      display: none;\n",
              "      fill: #1967D2;\n",
              "      height: 32px;\n",
              "      padding: 0 0 0 0;\n",
              "      width: 32px;\n",
              "    }\n",
              "\n",
              "    .colab-df-convert:hover {\n",
              "      background-color: #E2EBFA;\n",
              "      box-shadow: 0px 1px 2px rgba(60, 64, 67, 0.3), 0px 1px 3px 1px rgba(60, 64, 67, 0.15);\n",
              "      fill: #174EA6;\n",
              "    }\n",
              "\n",
              "    [theme=dark] .colab-df-convert {\n",
              "      background-color: #3B4455;\n",
              "      fill: #D2E3FC;\n",
              "    }\n",
              "\n",
              "    [theme=dark] .colab-df-convert:hover {\n",
              "      background-color: #434B5C;\n",
              "      box-shadow: 0px 1px 3px 1px rgba(0, 0, 0, 0.15);\n",
              "      filter: drop-shadow(0px 1px 2px rgba(0, 0, 0, 0.3));\n",
              "      fill: #FFFFFF;\n",
              "    }\n",
              "  </style>\n",
              "\n",
              "      <script>\n",
              "        const buttonEl =\n",
              "          document.querySelector('#df-7ede48ad-9008-4d7b-9981-0f1828b1b308 button.colab-df-convert');\n",
              "        buttonEl.style.display =\n",
              "          google.colab.kernel.accessAllowed ? 'block' : 'none';\n",
              "\n",
              "        async function convertToInteractive(key) {\n",
              "          const element = document.querySelector('#df-7ede48ad-9008-4d7b-9981-0f1828b1b308');\n",
              "          const dataTable =\n",
              "            await google.colab.kernel.invokeFunction('convertToInteractive',\n",
              "                                                     [key], {});\n",
              "          if (!dataTable) return;\n",
              "\n",
              "          const docLinkHtml = 'Like what you see? Visit the ' +\n",
              "            '<a target=\"_blank\" href=https://colab.research.google.com/notebooks/data_table.ipynb>data table notebook</a>'\n",
              "            + ' to learn more about interactive tables.';\n",
              "          element.innerHTML = '';\n",
              "          dataTable['output_type'] = 'display_data';\n",
              "          await google.colab.output.renderOutput(dataTable, element);\n",
              "          const docLink = document.createElement('div');\n",
              "          docLink.innerHTML = docLinkHtml;\n",
              "          element.appendChild(docLink);\n",
              "        }\n",
              "      </script>\n",
              "    </div>\n",
              "  </div>\n",
              "  "
            ]
          },
          "metadata": {},
          "execution_count": 127
        }
      ]
    },
    {
      "cell_type": "code",
      "source": [
        "# visualise area-price relationship\n",
        "sns.regplot(x=\"gas_price\", y=\"ev\", data=df, fit_reg=False)"
      ],
      "metadata": {
        "colab": {
          "base_uri": "https://localhost:8080/",
          "height": 309
        },
        "id": "hV_YLN9Yavml",
        "outputId": "7b84ce86-1729-45c0-e424-e073e69bd77b"
      },
      "execution_count": 128,
      "outputs": [
        {
          "output_type": "execute_result",
          "data": {
            "text/plain": [
              "<matplotlib.axes._subplots.AxesSubplot at 0x7f96fc6d5820>"
            ]
          },
          "metadata": {},
          "execution_count": 128
        },
        {
          "output_type": "display_data",
          "data": {
            "text/plain": [
              "<Figure size 432x288 with 1 Axes>"
            ],
            "image/png": "[encoded data removed]"
          },
          "metadata": {
            "needs_background": "light"
          }
        }
      ]
    },
    {
      "cell_type": "code",
      "source": [
        "# split into train and test\n",
        "df_train, df_test = train_test_split(df, \n",
        "                                     train_size = 0.7, \n",
        "                                     test_size = 0.3, \n",
        "                                     random_state = 10)\n",
        "print(len(df_train))\n",
        "print(len(df_test))"
      ],
      "metadata": {
        "colab": {
          "base_uri": "https://localhost:8080/"
        },
        "id": "_AaM-XBka58c",
        "outputId": "510feb3e-9089-402a-f4b6-f88bf9941cf7"
      },
      "execution_count": 129,
      "outputs": [
        {
          "output_type": "stream",
          "name": "stdout",
          "text": [
            "14\n",
            "7\n"
          ]
        }
      ]
    },
    {
      "cell_type": "code",
      "source": [
        "# split into X and y for both train and test sets\n",
        "# reshaping is required since sklearn requires the data to be in shape\n",
        "# (n, 1), not as a series of shape (n, )\n",
        "X_train = df_train['gas_price']\n",
        "X_train = X_train.values.reshape(-1, 1)\n",
        "y_train = df_train['ev']\n",
        "\n",
        "X_test = df_test['gas_price']\n",
        "X_test = X_test.values.reshape(-1, 1)\n",
        "y_test = df_test['ev']\n",
        "\n",
        "X_plot = np.linspace(1, 4, 1000).reshape(-1, 1)\n",
        "\n",
        "X_all = df[\"gas_price\"].values.reshape(-1, 1)\n",
        "y_all = df[\"ev\"]"
      ],
      "metadata": {
        "id": "XDKmR8JUbDUW"
      },
      "execution_count": 130,
      "outputs": []
    },
    {
      "cell_type": "code",
      "source": [
        "# fit multiple polynomial features\n",
        "degrees = [1, 2, 3, 4, 6, 10]\n",
        "\n",
        "# initialise y_train_pred and y_test_pred matrices to store the train and test predictions\n",
        "# each row is a data point, each column a prediction using a polynomial of some degree\n",
        "y_train_pred = np.zeros((len(X_train), len(degrees)))\n",
        "y_test_pred = np.zeros((len(X_test), len(degrees)))\n",
        "y_plot_pred = np.zeros((len(X_plot), len(degrees)))\n",
        "\n",
        "for i, degree in enumerate(degrees):\n",
        "    \n",
        "    # make pipeline: create features, then feed them to linear_reg model\n",
        "    model = make_pipeline(PolynomialFeatures(degree), LinearRegression())\n",
        "    model.fit(X_train, y_train)\n",
        "    \n",
        "    # predict on test and train data\n",
        "    # store the predictions of each degree in the corresponding column\n",
        "    y_train_pred[:, i] = model.predict(X_train)\n",
        "    y_test_pred[:, i] = model.predict(X_test)\n",
        "    y_plot_pred[:, i] = model.predict(X_plot)"
      ],
      "metadata": {
        "id": "icQmgYpmbO6D"
      },
      "execution_count": 131,
      "outputs": []
    },
    {
      "cell_type": "code",
      "source": [
        "# visualise train and test predictions\n",
        "# note that the y axis is on a log scale\n",
        "\n",
        "plt.figure(figsize=(16, 8))\n",
        "\n",
        "plt.yscale('log')\n",
        "plt.title(\"Plot data\")\n",
        "for i, degree in enumerate(degrees):    \n",
        "    plt.scatter(X_plot, y_plot_pred[:, i], label=str(degree))\n",
        "    plt.legend(loc='upper left')\n",
        "\n",
        "plt.scatter(X_all, y_all, color = 'black')"
      ],
      "metadata": {
        "colab": {
          "base_uri": "https://localhost:8080/",
          "height": 517
        },
        "id": "dOOMRQVwbgHA",
        "outputId": "ced6a0ce-881a-4897-d5f7-1efe389313dc"
      },
      "execution_count": 132,
      "outputs": [
        {
          "output_type": "execute_result",
          "data": {
            "text/plain": [
              "<matplotlib.collections.PathCollection at 0x7f96fc615d60>"
            ]
          },
          "metadata": {},
          "execution_count": 132
        },
        {
          "output_type": "display_data",
          "data": {
            "text/plain": [
              "<Figure size 1152x576 with 1 Axes>"
            ],
            "image/png": "[encoded data removed]"
          },
          "metadata": {
            "needs_background": "light"
          }
        }
      ]
    },
    {
      "cell_type": "code",
      "source": [
        "# compare r2 for train and test sets (for all polynomial fits)\n",
        "print(\"R-squared values: \\n\")\n",
        "\n",
        "for i, degree in enumerate(degrees):\n",
        "    train_r2 = round(sklearn.metrics.r2_score(y_train, y_train_pred[:, i]), 2)\n",
        "    test_r2 = round(sklearn.metrics.r2_score(y_test, y_test_pred[:, i]), 2)\n",
        "    print(\"Polynomial degree {0}: train score={1}, test score={2}\".format(degree, \n",
        "                                                                         train_r2, \n",
        "                                                                         test_r2))"
      ],
      "metadata": {
        "colab": {
          "base_uri": "https://localhost:8080/"
        },
        "id": "JvvFXKBjbyY9",
        "outputId": "8c13f4ee-f2e6-4e8d-e146-c08fcb7e85e9"
      },
      "execution_count": 133,
      "outputs": [
        {
          "output_type": "stream",
          "name": "stdout",
          "text": [
            "R-squared values: \n",
            "\n",
            "Polynomial degree 1: train score=0.22, test score=0.05\n",
            "Polynomial degree 2: train score=0.31, test score=0.27\n",
            "Polynomial degree 3: train score=0.35, test score=0.23\n",
            "Polynomial degree 4: train score=0.5, test score=-4.4\n",
            "Polynomial degree 6: train score=0.64, test score=-5.14\n",
            "Polynomial degree 10: train score=0.9, test score=-26614.09\n"
          ]
        }
      ]
    },
    {
      "cell_type": "markdown",
      "source": [
        "Therefore, we should use a polynomial regression model of degree 2 to fit the data <br>\n",
        "\n",
        "And we know, as the gas price rises, more people are willing to choose electric cars."
      ],
      "metadata": {
        "id": "2hbh37geqxee"
      }
    },
    {
      "cell_type": "code",
      "source": [
        "# using all the data to train a polynomial regression of degree 2\n",
        "model = make_pipeline(PolynomialFeatures(2), LinearRegression())\n",
        "model.fit(X_all, y_all)"
      ],
      "metadata": {
        "colab": {
          "base_uri": "https://localhost:8080/"
        },
        "id": "MYLpxsCm1z-i",
        "outputId": "04015de2-c942-419b-e826-cef202349b21"
      },
      "execution_count": 134,
      "outputs": [
        {
          "output_type": "execute_result",
          "data": {
            "text/plain": [
              "Pipeline(steps=[('polynomialfeatures', PolynomialFeatures()),\n",
              "                ('linearregression', LinearRegression())])"
            ]
          },
          "metadata": {},
          "execution_count": 134
        }
      ]
    },
    {
      "cell_type": "code",
      "source": [
        "# predicted when gas price is 4 dollar/gallon, how many electric cars will be bought in that year?\n",
        "model.predict([[4]])[0]"
      ],
      "metadata": {
        "colab": {
          "base_uri": "https://localhost:8080/"
        },
        "id": "hets4EMJ8inK",
        "outputId": "2d5ad413-0d58-4404-f6a4-5c9d3db4d115"
      },
      "execution_count": 135,
      "outputs": [
        {
          "output_type": "execute_result",
          "data": {
            "text/plain": [
              "393952.4320526805"
            ]
          },
          "metadata": {},
          "execution_count": 135
        }
      ]
    },
    {
      "cell_type": "markdown",
      "source": [
        "## Second model: gdp vs amount of electric cars"
      ],
      "metadata": {
        "id": "BQrR-_JdrDrP"
      }
    },
    {
      "cell_type": "code",
      "source": [
        "# filter only gas_price and ev\n",
        "df = data.loc[:, ['gdp', 'ev']]\n",
        "df.head()"
      ],
      "metadata": {
        "colab": {
          "base_uri": "https://localhost:8080/",
          "height": 206
        },
        "id": "8iyhUEsMtLcj",
        "outputId": "ba394fe9-aa1c-47b1-abf9-cd3b9c9db383"
      },
      "execution_count": 137,
      "outputs": [
        {
          "output_type": "execute_result",
          "data": {
            "text/plain": [
              "        gdp      ev\n",
              "0  37133.62   20282\n",
              "1  37997.76   36042\n",
              "2  39490.27   47566\n",
              "3  41724.63   84233\n",
              "4  44123.41  205876"
            ],
            "text/html": [
              "\n",
              "  <div id=\"df-4a4f5635-8d0f-4eae-bb30-489ebc066f86\">\n",
              "    <div class=\"colab-df-container\">\n",
              "      <div>\n",
              "<style scoped>\n",
              "    .dataframe tbody tr th:only-of-type {\n",
              "        vertical-align: middle;\n",
              "    }\n",
              "\n",
              "    .dataframe tbody tr th {\n",
              "        vertical-align: top;\n",
              "    }\n",
              "\n",
              "    .dataframe thead th {\n",
              "        text-align: right;\n",
              "    }\n",
              "</style>\n",
              "<table border=\"1\" class=\"dataframe\">\n",
              "  <thead>\n",
              "    <tr style=\"text-align: right;\">\n",
              "      <th></th>\n",
              "      <th>gdp</th>\n",
              "      <th>ev</th>\n",
              "    </tr>\n",
              "  </thead>\n",
              "  <tbody>\n",
              "    <tr>\n",
              "      <th>0</th>\n",
              "      <td>37133.62</td>\n",
              "      <td>20282</td>\n",
              "    </tr>\n",
              "    <tr>\n",
              "      <th>1</th>\n",
              "      <td>37997.76</td>\n",
              "      <td>36042</td>\n",
              "    </tr>\n",
              "    <tr>\n",
              "      <th>2</th>\n",
              "      <td>39490.27</td>\n",
              "      <td>47566</td>\n",
              "    </tr>\n",
              "    <tr>\n",
              "      <th>3</th>\n",
              "      <td>41724.63</td>\n",
              "      <td>84233</td>\n",
              "    </tr>\n",
              "    <tr>\n",
              "      <th>4</th>\n",
              "      <td>44123.41</td>\n",
              "      <td>205876</td>\n",
              "    </tr>\n",
              "  </tbody>\n",
              "</table>\n",
              "</div>\n",
              "      <button class=\"colab-df-convert\" onclick=\"convertToInteractive('df-4a4f5635-8d0f-4eae-bb30-489ebc066f86')\"\n",
              "              title=\"Convert this dataframe to an interactive table.\"\n",
              "              style=\"display:none;\">\n",
              "        \n",
              "  <svg xmlns=\"http://www.w3.org/2000/svg\" height=\"24px\"viewBox=\"0 0 24 24\"\n",
              "       width=\"24px\">\n",
              "    <path d=\"M0 0h24v24H0V0z\" fill=\"none\"/>\n",
              "    <path d=\"M18.56 5.44l.94 2.06.94-2.06 2.06-.94-2.06-.94-.94-2.06-.94 2.06-2.06.94zm-11 1L8.5 8.5l.94-2.06 2.06-.94-2.06-.94L8.5 2.5l-.94 2.06-2.06.94zm10 10l.94 2.06.94-2.06 2.06-.94-2.06-.94-.94-2.06-.94 2.06-2.06.94z\"/><path d=\"M17.41 7.96l-1.37-1.37c-.4-.4-.92-.59-1.43-.59-.52 0-1.04.2-1.43.59L10.3 9.45l-7.72 7.72c-.78.78-.78 2.05 0 2.83L4 21.41c.39.39.9.59 1.41.59.51 0 1.02-.2 1.41-.59l7.78-7.78 2.81-2.81c.8-.78.8-2.07 0-2.86zM5.41 20L4 18.59l7.72-7.72 1.47 1.35L5.41 20z\"/>\n",
              "  </svg>\n",
              "      </button>\n",
              "      \n",
              "  <style>\n",
              "    .colab-df-container {\n",
              "      display:flex;\n",
              "      flex-wrap:wrap;\n",
              "      gap: 12px;\n",
              "    }\n",
              "\n",
              "    .colab-df-convert {\n",
              "      background-color: #E8F0FE;\n",
              "      border: none;\n",
              "      border-radius: 50%;\n",
              "      cursor: pointer;\n",
              "      display: none;\n",
              "      fill: #1967D2;\n",
              "      height: 32px;\n",
              "      padding: 0 0 0 0;\n",
              "      width: 32px;\n",
              "    }\n",
              "\n",
              "    .colab-df-convert:hover {\n",
              "      background-color: #E2EBFA;\n",
              "      box-shadow: 0px 1px 2px rgba(60, 64, 67, 0.3), 0px 1px 3px 1px rgba(60, 64, 67, 0.15);\n",
              "      fill: #174EA6;\n",
              "    }\n",
              "\n",
              "    [theme=dark] .colab-df-convert {\n",
              "      background-color: #3B4455;\n",
              "      fill: #D2E3FC;\n",
              "    }\n",
              "\n",
              "    [theme=dark] .colab-df-convert:hover {\n",
              "      background-color: #434B5C;\n",
              "      box-shadow: 0px 1px 3px 1px rgba(0, 0, 0, 0.15);\n",
              "      filter: drop-shadow(0px 1px 2px rgba(0, 0, 0, 0.3));\n",
              "      fill: #FFFFFF;\n",
              "    }\n",
              "  </style>\n",
              "\n",
              "      <script>\n",
              "        const buttonEl =\n",
              "          document.querySelector('#df-4a4f5635-8d0f-4eae-bb30-489ebc066f86 button.colab-df-convert');\n",
              "        buttonEl.style.display =\n",
              "          google.colab.kernel.accessAllowed ? 'block' : 'none';\n",
              "\n",
              "        async function convertToInteractive(key) {\n",
              "          const element = document.querySelector('#df-4a4f5635-8d0f-4eae-bb30-489ebc066f86');\n",
              "          const dataTable =\n",
              "            await google.colab.kernel.invokeFunction('convertToInteractive',\n",
              "                                                     [key], {});\n",
              "          if (!dataTable) return;\n",
              "\n",
              "          const docLinkHtml = 'Like what you see? Visit the ' +\n",
              "            '<a target=\"_blank\" href=https://colab.research.google.com/notebooks/data_table.ipynb>data table notebook</a>'\n",
              "            + ' to learn more about interactive tables.';\n",
              "          element.innerHTML = '';\n",
              "          dataTable['output_type'] = 'display_data';\n",
              "          await google.colab.output.renderOutput(dataTable, element);\n",
              "          const docLink = document.createElement('div');\n",
              "          docLink.innerHTML = docLinkHtml;\n",
              "          element.appendChild(docLink);\n",
              "        }\n",
              "      </script>\n",
              "    </div>\n",
              "  </div>\n",
              "  "
            ]
          },
          "metadata": {},
          "execution_count": 137
        }
      ]
    },
    {
      "cell_type": "code",
      "source": [
        "# visualise area-price relationship\n",
        "sns.regplot(x=\"gdp\", y=\"ev\", data=df, fit_reg=False)"
      ],
      "metadata": {
        "colab": {
          "base_uri": "https://localhost:8080/",
          "height": 308
        },
        "id": "YmqPueVwtTwe",
        "outputId": "186c63e7-d06d-40af-a8af-ef2e8209ab09"
      },
      "execution_count": 138,
      "outputs": [
        {
          "output_type": "execute_result",
          "data": {
            "text/plain": [
              "<matplotlib.axes._subplots.AxesSubplot at 0x7f96fc55de20>"
            ]
          },
          "metadata": {},
          "execution_count": 138
        },
        {
          "output_type": "display_data",
          "data": {
            "text/plain": [
              "<Figure size 432x288 with 1 Axes>"
            ],
            "image/png": "[encoded data removed]"
          },
          "metadata": {
            "needs_background": "light"
          }
        }
      ]
    },
    {
      "cell_type": "code",
      "source": [
        "# split into train and test\n",
        "df_train, df_test = train_test_split(df, \n",
        "                                     train_size = 0.7, \n",
        "                                     test_size = 0.3, \n",
        "                                     random_state = 10)\n",
        "print(len(df_train))\n",
        "print(len(df_test))"
      ],
      "metadata": {
        "colab": {
          "base_uri": "https://localhost:8080/"
        },
        "id": "wfFfYDcjtaFJ",
        "outputId": "581ee0cc-fd2c-4eca-bb82-2bc6529dbb43"
      },
      "execution_count": 139,
      "outputs": [
        {
          "output_type": "stream",
          "name": "stdout",
          "text": [
            "14\n",
            "7\n"
          ]
        }
      ]
    },
    {
      "cell_type": "code",
      "source": [
        "# split into X and y for both train and test sets\n",
        "# reshaping is required since sklearn requires the data to be in shape\n",
        "# (n, 1), not as a series of shape (n, )\n",
        "X_train = df_train['gdp']\n",
        "X_train = X_train.values.reshape(-1, 1)\n",
        "y_train = df_train['ev']\n",
        "\n",
        "X_test = df_test['gdp']\n",
        "X_test = X_test.values.reshape(-1, 1)\n",
        "y_test = df_test['ev']\n",
        "\n",
        "X_plot = np.linspace(30000, 70000, 10000).reshape(-1, 1)\n",
        "\n",
        "X_all = df[\"gdp\"].values.reshape(-1, 1)\n",
        "y_all = df[\"ev\"]"
      ],
      "metadata": {
        "id": "arLgT9whtbNZ"
      },
      "execution_count": 140,
      "outputs": []
    },
    {
      "cell_type": "code",
      "source": [
        "# fit multiple polynomial features\n",
        "degrees = [1, 3, 6, 9, 10, 11, 12, 13, 15, 20]\n",
        "\n",
        "# initialise y_train_pred and y_test_pred matrices to store the train and test predictions\n",
        "# each row is a data point, each column a prediction using a polynomial of some degree\n",
        "y_train_pred = np.zeros((len(X_train), len(degrees)))\n",
        "y_test_pred = np.zeros((len(X_test), len(degrees)))\n",
        "y_plot_pred = np.zeros((len(X_plot), len(degrees)))\n",
        "\n",
        "for i, degree in enumerate(degrees):\n",
        "    \n",
        "    # make pipeline: create features, then feed them to linear_reg model\n",
        "    model = make_pipeline(PolynomialFeatures(degree), LinearRegression())\n",
        "    model.fit(X_train, y_train)\n",
        "    \n",
        "    # predict on test and train data\n",
        "    # store the predictions of each degree in the corresponding column\n",
        "    y_train_pred[:, i] = model.predict(X_train)\n",
        "    y_test_pred[:, i] = model.predict(X_test)\n",
        "    y_plot_pred[:, i] = model.predict(X_plot)"
      ],
      "metadata": {
        "id": "Ekgd81R5tsJk"
      },
      "execution_count": 141,
      "outputs": []
    },
    {
      "cell_type": "code",
      "source": [
        "# visualise train and test predictions\n",
        "# note that the y axis is on a log scale\n",
        "\n",
        "plt.figure(figsize=(16, 8))\n",
        "\n",
        "plt.yscale('log')\n",
        "plt.title(\"Plot data\")\n",
        "for i, degree in enumerate(degrees):    \n",
        "    plt.scatter(X_plot, y_plot_pred[:, i], label=str(degree))\n",
        "    plt.legend(loc='upper left')\n",
        "\n",
        "plt.scatter(X_all, y_all, color = 'black')"
      ],
      "metadata": {
        "colab": {
          "base_uri": "https://localhost:8080/",
          "height": 517
        },
        "id": "Yz-pwa7KtvG2",
        "outputId": "b37151f8-87ef-41d3-ff13-f82fd87d300f"
      },
      "execution_count": 142,
      "outputs": [
        {
          "output_type": "execute_result",
          "data": {
            "text/plain": [
              "<matplotlib.collections.PathCollection at 0x7f96fe167a00>"
            ]
          },
          "metadata": {},
          "execution_count": 142
        },
        {
          "output_type": "display_data",
          "data": {
            "text/plain": [
              "<Figure size 1152x576 with 1 Axes>"
            ],
            "image/png": "[encoded data removed]"
          },
          "metadata": {
            "needs_background": "light"
          }
        }
      ]
    },
    {
      "cell_type": "code",
      "source": [
        "# compare r2 for train and test sets (for all polynomial fits)\n",
        "print(\"R-squared values: \\n\")\n",
        "\n",
        "for i, degree in enumerate(degrees):\n",
        "    train_r2 = round(sklearn.metrics.r2_score(y_train, y_train_pred[:, i]), 2)\n",
        "    test_r2 = round(sklearn.metrics.r2_score(y_test, y_test_pred[:, i]), 2)\n",
        "    print(\"Polynomial degree {0}: train score={1}, test score={2}\".format(degree, \n",
        "                                                                         train_r2, \n",
        "                                                                         test_r2))"
      ],
      "metadata": {
        "colab": {
          "base_uri": "https://localhost:8080/"
        },
        "id": "JwyaHM3wt0bm",
        "outputId": "0006c2c0-b01a-42b8-e63a-b2ab985c85f0"
      },
      "execution_count": 143,
      "outputs": [
        {
          "output_type": "stream",
          "name": "stdout",
          "text": [
            "R-squared values: \n",
            "\n",
            "Polynomial degree 1: train score=0.84, test score=0.85\n",
            "Polynomial degree 3: train score=0.95, test score=0.78\n",
            "Polynomial degree 6: train score=0.97, test score=0.87\n",
            "Polynomial degree 9: train score=0.97, test score=0.94\n",
            "Polynomial degree 10: train score=0.97, test score=0.95\n",
            "Polynomial degree 11: train score=0.97, test score=0.96\n",
            "Polynomial degree 12: train score=0.97, test score=0.96\n",
            "Polynomial degree 13: train score=0.96, test score=0.95\n",
            "Polynomial degree 15: train score=0.95, test score=0.91\n",
            "Polynomial degree 20: train score=0.91, test score=0.76\n"
          ]
        }
      ]
    },
    {
      "cell_type": "markdown",
      "source": [
        "Therefore, we should use a polynomial regression model of degree 11 or 12 to fit the data <br>\n",
        "\n",
        "And we know, as the gdp rises, more people are willing to choose electric cars."
      ],
      "metadata": {
        "id": "ssUtccKouTEL"
      }
    },
    {
      "cell_type": "code",
      "source": [
        "# using all the data to train a polynomial regression of degree 12\n",
        "model = make_pipeline(PolynomialFeatures(12), LinearRegression())\n",
        "model.fit(X_all, y_all)"
      ],
      "metadata": {
        "colab": {
          "base_uri": "https://localhost:8080/"
        },
        "outputId": "766037ba-cc26-402d-e554-a2b0c623e1af",
        "id": "1XVrIs7g9yH7"
      },
      "execution_count": 144,
      "outputs": [
        {
          "output_type": "execute_result",
          "data": {
            "text/plain": [
              "Pipeline(steps=[('polynomialfeatures', PolynomialFeatures(degree=12)),\n",
              "                ('linearregression', LinearRegression())])"
            ]
          },
          "metadata": {},
          "execution_count": 144
        }
      ]
    },
    {
      "cell_type": "code",
      "source": [
        "# predicted when gas price is 80000 dollar, how many electric cars will be bought in that year?\n",
        "model.predict([[80000]])[0]"
      ],
      "metadata": {
        "colab": {
          "base_uri": "https://localhost:8080/"
        },
        "outputId": "3ddee9b4-fb6e-4d04-d74a-2a2650e444a2",
        "id": "gA8HcEa89yH8"
      },
      "execution_count": 145,
      "outputs": [
        {
          "output_type": "execute_result",
          "data": {
            "text/plain": [
              "26398875.483757935"
            ]
          },
          "metadata": {},
          "execution_count": 145
        }
      ]
    },
    {
      "cell_type": "markdown",
      "source": [
        "## Third model, co2 emissions vs amount of electric cars "
      ],
      "metadata": {
        "id": "T3xnYqN-rKVw"
      }
    },
    {
      "cell_type": "code",
      "source": [
        "# filter only gas_price and ev\n",
        "df = data.loc[:, ['co2_emissions', 'ev']]\n",
        "df.head()"
      ],
      "metadata": {
        "colab": {
          "base_uri": "https://localhost:8080/",
          "height": 206
        },
        "id": "9UiFNJUJujDd",
        "outputId": "9f0b6d34-29cd-4331-e260-1f096e448aa0"
      },
      "execution_count": 148,
      "outputs": [
        {
          "output_type": "execute_result",
          "data": {
            "text/plain": [
              "   co2_emissions      ev\n",
              "0        1855.78   20282\n",
              "1        1895.48   36042\n",
              "2        1912.60   47566\n",
              "3        1967.47   84233\n",
              "4        1988.14  205876"
            ],
            "text/html": [
              "\n",
              "  <div id=\"df-9573469a-01a5-4314-a7f1-c34ef9ed43ee\">\n",
              "    <div class=\"colab-df-container\">\n",
              "      <div>\n",
              "<style scoped>\n",
              "    .dataframe tbody tr th:only-of-type {\n",
              "        vertical-align: middle;\n",
              "    }\n",
              "\n",
              "    .dataframe tbody tr th {\n",
              "        vertical-align: top;\n",
              "    }\n",
              "\n",
              "    .dataframe thead th {\n",
              "        text-align: right;\n",
              "    }\n",
              "</style>\n",
              "<table border=\"1\" class=\"dataframe\">\n",
              "  <thead>\n",
              "    <tr style=\"text-align: right;\">\n",
              "      <th></th>\n",
              "      <th>co2_emissions</th>\n",
              "      <th>ev</th>\n",
              "    </tr>\n",
              "  </thead>\n",
              "  <tbody>\n",
              "    <tr>\n",
              "      <th>0</th>\n",
              "      <td>1855.78</td>\n",
              "      <td>20282</td>\n",
              "    </tr>\n",
              "    <tr>\n",
              "      <th>1</th>\n",
              "      <td>1895.48</td>\n",
              "      <td>36042</td>\n",
              "    </tr>\n",
              "    <tr>\n",
              "      <th>2</th>\n",
              "      <td>1912.60</td>\n",
              "      <td>47566</td>\n",
              "    </tr>\n",
              "    <tr>\n",
              "      <th>3</th>\n",
              "      <td>1967.47</td>\n",
              "      <td>84233</td>\n",
              "    </tr>\n",
              "    <tr>\n",
              "      <th>4</th>\n",
              "      <td>1988.14</td>\n",
              "      <td>205876</td>\n",
              "    </tr>\n",
              "  </tbody>\n",
              "</table>\n",
              "</div>\n",
              "      <button class=\"colab-df-convert\" onclick=\"convertToInteractive('df-9573469a-01a5-4314-a7f1-c34ef9ed43ee')\"\n",
              "              title=\"Convert this dataframe to an interactive table.\"\n",
              "              style=\"display:none;\">\n",
              "        \n",
              "  <svg xmlns=\"http://www.w3.org/2000/svg\" height=\"24px\"viewBox=\"0 0 24 24\"\n",
              "       width=\"24px\">\n",
              "    <path d=\"M0 0h24v24H0V0z\" fill=\"none\"/>\n",
              "    <path d=\"M18.56 5.44l.94 2.06.94-2.06 2.06-.94-2.06-.94-.94-2.06-.94 2.06-2.06.94zm-11 1L8.5 8.5l.94-2.06 2.06-.94-2.06-.94L8.5 2.5l-.94 2.06-2.06.94zm10 10l.94 2.06.94-2.06 2.06-.94-2.06-.94-.94-2.06-.94 2.06-2.06.94z\"/><path d=\"M17.41 7.96l-1.37-1.37c-.4-.4-.92-.59-1.43-.59-.52 0-1.04.2-1.43.59L10.3 9.45l-7.72 7.72c-.78.78-.78 2.05 0 2.83L4 21.41c.39.39.9.59 1.41.59.51 0 1.02-.2 1.41-.59l7.78-7.78 2.81-2.81c.8-.78.8-2.07 0-2.86zM5.41 20L4 18.59l7.72-7.72 1.47 1.35L5.41 20z\"/>\n",
              "  </svg>\n",
              "      </button>\n",
              "      \n",
              "  <style>\n",
              "    .colab-df-container {\n",
              "      display:flex;\n",
              "      flex-wrap:wrap;\n",
              "      gap: 12px;\n",
              "    }\n",
              "\n",
              "    .colab-df-convert {\n",
              "      background-color: #E8F0FE;\n",
              "      border: none;\n",
              "      border-radius: 50%;\n",
              "      cursor: pointer;\n",
              "      display: none;\n",
              "      fill: #1967D2;\n",
              "      height: 32px;\n",
              "      padding: 0 0 0 0;\n",
              "      width: 32px;\n",
              "    }\n",
              "\n",
              "    .colab-df-convert:hover {\n",
              "      background-color: #E2EBFA;\n",
              "      box-shadow: 0px 1px 2px rgba(60, 64, 67, 0.3), 0px 1px 3px 1px rgba(60, 64, 67, 0.15);\n",
              "      fill: #174EA6;\n",
              "    }\n",
              "\n",
              "    [theme=dark] .colab-df-convert {\n",
              "      background-color: #3B4455;\n",
              "      fill: #D2E3FC;\n",
              "    }\n",
              "\n",
              "    [theme=dark] .colab-df-convert:hover {\n",
              "      background-color: #434B5C;\n",
              "      box-shadow: 0px 1px 3px 1px rgba(0, 0, 0, 0.15);\n",
              "      filter: drop-shadow(0px 1px 2px rgba(0, 0, 0, 0.3));\n",
              "      fill: #FFFFFF;\n",
              "    }\n",
              "  </style>\n",
              "\n",
              "      <script>\n",
              "        const buttonEl =\n",
              "          document.querySelector('#df-9573469a-01a5-4314-a7f1-c34ef9ed43ee button.colab-df-convert');\n",
              "        buttonEl.style.display =\n",
              "          google.colab.kernel.accessAllowed ? 'block' : 'none';\n",
              "\n",
              "        async function convertToInteractive(key) {\n",
              "          const element = document.querySelector('#df-9573469a-01a5-4314-a7f1-c34ef9ed43ee');\n",
              "          const dataTable =\n",
              "            await google.colab.kernel.invokeFunction('convertToInteractive',\n",
              "                                                     [key], {});\n",
              "          if (!dataTable) return;\n",
              "\n",
              "          const docLinkHtml = 'Like what you see? Visit the ' +\n",
              "            '<a target=\"_blank\" href=https://colab.research.google.com/notebooks/data_table.ipynb>data table notebook</a>'\n",
              "            + ' to learn more about interactive tables.';\n",
              "          element.innerHTML = '';\n",
              "          dataTable['output_type'] = 'display_data';\n",
              "          await google.colab.output.renderOutput(dataTable, element);\n",
              "          const docLink = document.createElement('div');\n",
              "          docLink.innerHTML = docLinkHtml;\n",
              "          element.appendChild(docLink);\n",
              "        }\n",
              "      </script>\n",
              "    </div>\n",
              "  </div>\n",
              "  "
            ]
          },
          "metadata": {},
          "execution_count": 148
        }
      ]
    },
    {
      "cell_type": "code",
      "source": [
        "# visualise area-price relationship\n",
        "sns.regplot(x=\"co2_emissions\", y=\"ev\", data=df, fit_reg=False)"
      ],
      "metadata": {
        "colab": {
          "base_uri": "https://localhost:8080/",
          "height": 309
        },
        "id": "X-U2Gl3buouN",
        "outputId": "055a7bf4-d6e5-40b2-aa0b-a653bf60424e"
      },
      "execution_count": 149,
      "outputs": [
        {
          "output_type": "execute_result",
          "data": {
            "text/plain": [
              "<matplotlib.axes._subplots.AxesSubplot at 0x7f96fc502250>"
            ]
          },
          "metadata": {},
          "execution_count": 149
        },
        {
          "output_type": "display_data",
          "data": {
            "text/plain": [
              "<Figure size 432x288 with 1 Axes>"
            ],
            "image/png": "[encoded data removed]"
          },
          "metadata": {
            "needs_background": "light"
          }
        }
      ]
    },
    {
      "cell_type": "code",
      "source": [
        "# split into train and test\n",
        "df_train, df_test = train_test_split(df, \n",
        "                                     train_size = 0.7, \n",
        "                                     test_size = 0.3, \n",
        "                                     random_state = 10)\n",
        "print(len(df_train))\n",
        "print(len(df_test))"
      ],
      "metadata": {
        "colab": {
          "base_uri": "https://localhost:8080/"
        },
        "id": "RgIFHQnwuuON",
        "outputId": "7c4dc127-a6c0-4de8-e2bf-8d0fe6212671"
      },
      "execution_count": 150,
      "outputs": [
        {
          "output_type": "stream",
          "name": "stdout",
          "text": [
            "14\n",
            "7\n"
          ]
        }
      ]
    },
    {
      "cell_type": "code",
      "source": [
        "# split into X and y for both train and test sets\n",
        "# reshaping is required since sklearn requires the data to be in shape\n",
        "# (n, 1), not as a series of shape (n, )\n",
        "X_train = df_train['co2_emissions']\n",
        "X_train = X_train.values.reshape(-1, 1)\n",
        "y_train = df_train['ev']\n",
        "\n",
        "X_test = df_test['co2_emissions']\n",
        "X_test = X_test.values.reshape(-1, 1)\n",
        "y_test = df_test['ev']\n",
        "\n",
        "X_plot = np.linspace(1500, 2100, 10000).reshape(-1, 1)\n",
        "\n",
        "X_all = df[\"co2_emissions\"].values.reshape(-1, 1)\n",
        "y_all = df[\"ev\"]"
      ],
      "metadata": {
        "id": "T9w0eLgvu4xO"
      },
      "execution_count": 151,
      "outputs": []
    },
    {
      "cell_type": "code",
      "source": [
        "# fit multiple polynomial features\n",
        "degrees = [1, 2, 3, 6, 9, 10, 11, 12, 13, 15, 20]\n",
        "\n",
        "# initialise y_train_pred and y_test_pred matrices to store the train and test predictions\n",
        "# each row is a data point, each column a prediction using a polynomial of some degree\n",
        "y_train_pred = np.zeros((len(X_train), len(degrees)))\n",
        "y_test_pred = np.zeros((len(X_test), len(degrees)))\n",
        "y_plot_pred = np.zeros((len(X_plot), len(degrees)))\n",
        "\n",
        "for i, degree in enumerate(degrees):\n",
        "    \n",
        "    # make pipeline: create features, then feed them to linear_reg model\n",
        "    model = make_pipeline(PolynomialFeatures(degree), LinearRegression())\n",
        "    model.fit(X_train, y_train)\n",
        "    \n",
        "    # predict on test and train data\n",
        "    # store the predictions of each degree in the corresponding column\n",
        "    y_train_pred[:, i] = model.predict(X_train)\n",
        "    y_test_pred[:, i] = model.predict(X_test)\n",
        "    y_plot_pred[:, i] = model.predict(X_plot)"
      ],
      "metadata": {
        "id": "uhNUGO4NvIXB"
      },
      "execution_count": 152,
      "outputs": []
    },
    {
      "cell_type": "code",
      "source": [
        "# visualise train and test predictions\n",
        "# note that the y axis is on a log scale\n",
        "\n",
        "plt.figure(figsize=(16, 8))\n",
        "\n",
        "plt.yscale('log')\n",
        "plt.title(\"Plot data\")\n",
        "for i, degree in enumerate(degrees):    \n",
        "    plt.scatter(X_plot, y_plot_pred[:, i], label=str(degree))\n",
        "    plt.legend(loc='upper left')\n",
        "\n",
        "plt.scatter(X_all, y_all, color = 'black')"
      ],
      "metadata": {
        "colab": {
          "base_uri": "https://localhost:8080/",
          "height": 517
        },
        "id": "1gXRN5UcvPHA",
        "outputId": "3fb865c2-38ec-4b34-b8c8-283e00ec231c"
      },
      "execution_count": 153,
      "outputs": [
        {
          "output_type": "execute_result",
          "data": {
            "text/plain": [
              "<matplotlib.collections.PathCollection at 0x7f96fc3ba880>"
            ]
          },
          "metadata": {},
          "execution_count": 153
        },
        {
          "output_type": "display_data",
          "data": {
            "text/plain": [
              "<Figure size 1152x576 with 1 Axes>"
            ],
            "image/png": "[encoded data removed]"
          },
          "metadata": {
            "needs_background": "light"
          }
        }
      ]
    },
    {
      "cell_type": "code",
      "source": [
        "# compare r2 for train and test sets (for all polynomial fits)\n",
        "print(\"R-squared values: \\n\")\n",
        "\n",
        "for i, degree in enumerate(degrees):\n",
        "    train_r2 = round(sklearn.metrics.r2_score(y_train, y_train_pred[:, i]), 2)\n",
        "    test_r2 = round(sklearn.metrics.r2_score(y_test, y_test_pred[:, i]), 2)\n",
        "    print(\"Polynomial degree {0}: train score={1}, test score={2}\".format(degree, \n",
        "                                                                         train_r2, \n",
        "                                                                         test_r2))"
      ],
      "metadata": {
        "colab": {
          "base_uri": "https://localhost:8080/"
        },
        "id": "2U0PodxPvW4K",
        "outputId": "37a072af-46fe-4d36-9ad3-eecfe4bf26f0"
      },
      "execution_count": 154,
      "outputs": [
        {
          "output_type": "stream",
          "name": "stdout",
          "text": [
            "R-squared values: \n",
            "\n",
            "Polynomial degree 1: train score=0.14, test score=0.06\n",
            "Polynomial degree 2: train score=0.15, test score=0.07\n",
            "Polynomial degree 3: train score=0.18, test score=-0.04\n",
            "Polynomial degree 6: train score=0.34, test score=-1.23\n",
            "Polynomial degree 9: train score=0.3, test score=-0.85\n",
            "Polynomial degree 10: train score=0.29, test score=-0.74\n",
            "Polynomial degree 11: train score=0.28, test score=-0.65\n",
            "Polynomial degree 12: train score=0.27, test score=-0.56\n",
            "Polynomial degree 13: train score=0.26, test score=-0.49\n",
            "Polynomial degree 15: train score=0.24, test score=-0.36\n",
            "Polynomial degree 20: train score=0.21, test score=-0.14\n"
          ]
        }
      ]
    },
    {
      "cell_type": "markdown",
      "source": [
        "Therefore, we should use a polynomial regression model of degree 2 to fit the data <br>\n",
        "\n",
        "And we know, as the co2 emission goes lower, the amount of electric cars goes higher. \n",
        "\n",
        "This might show the contribution of electric cars to our environment."
      ],
      "metadata": {
        "id": "Eul9IpOOvdbl"
      }
    },
    {
      "cell_type": "code",
      "source": [
        "# using all the data to train a polynomial regression of degree 2\n",
        "model = make_pipeline(PolynomialFeatures(2), LinearRegression())\n",
        "model.fit(X_all, y_all)"
      ],
      "metadata": {
        "colab": {
          "base_uri": "https://localhost:8080/"
        },
        "outputId": "23833309-0739-44b8-e44c-b0da6c531d73",
        "id": "65qlWlm--UzB"
      },
      "execution_count": 155,
      "outputs": [
        {
          "output_type": "execute_result",
          "data": {
            "text/plain": [
              "Pipeline(steps=[('polynomialfeatures', PolynomialFeatures()),\n",
              "                ('linearregression', LinearRegression())])"
            ]
          },
          "metadata": {},
          "execution_count": 155
        }
      ]
    },
    {
      "cell_type": "code",
      "source": [
        "# predicted when co2 emission is 2100 millions of metric tons, how many electric cars will be bought in that year?\n",
        "model.predict([[2100]])[0]"
      ],
      "metadata": {
        "colab": {
          "base_uri": "https://localhost:8080/"
        },
        "outputId": "c3116ca4-565c-4552-bb9c-27c9a7fa97df",
        "id": "n0ylJWxH-UzC"
      },
      "execution_count": 156,
      "outputs": [
        {
          "output_type": "execute_result",
          "data": {
            "text/plain": [
              "216411.12990425527"
            ]
          },
          "metadata": {},
          "execution_count": 156
        }
      ]
    },
    {
      "cell_type": "markdown",
      "source": [
        "\n",
        "# Multi variable regression (using Cross validation)"
      ],
      "metadata": {
        "id": "v797EzQgi812"
      }
    },
    {
      "cell_type": "code",
      "source": [
        "data.head()"
      ],
      "metadata": {
        "colab": {
          "base_uri": "https://localhost:8080/",
          "height": 206
        },
        "id": "Q2xugIvHnQ2U",
        "outputId": "f3a37bab-555e-496c-dc21-2c90ecd8735d"
      },
      "execution_count": 63,
      "outputs": [
        {
          "output_type": "execute_result",
          "data": {
            "text/plain": [
              "   year  co2_emissions       gdp  gas_price      ev\n",
              "0  2001        1855.78  37133.62      1.460   20282\n",
              "1  2002        1895.48  37997.76      1.386   36042\n",
              "2  2003        1912.60  39490.27      1.603   47566\n",
              "3  2004        1967.47  41724.63      1.895   84233\n",
              "4  2005        1988.14  44123.41      2.314  205876"
            ],
            "text/html": [
              "\n",
              "  <div id=\"df-4108f97b-57ba-483e-aa2c-1ce5043d5775\">\n",
              "    <div class=\"colab-df-container\">\n",
              "      <div>\n",
              "<style scoped>\n",
              "    .dataframe tbody tr th:only-of-type {\n",
              "        vertical-align: middle;\n",
              "    }\n",
              "\n",
              "    .dataframe tbody tr th {\n",
              "        vertical-align: top;\n",
              "    }\n",
              "\n",
              "    .dataframe thead th {\n",
              "        text-align: right;\n",
              "    }\n",
              "</style>\n",
              "<table border=\"1\" class=\"dataframe\">\n",
              "  <thead>\n",
              "    <tr style=\"text-align: right;\">\n",
              "      <th></th>\n",
              "      <th>year</th>\n",
              "      <th>co2_emissions</th>\n",
              "      <th>gdp</th>\n",
              "      <th>gas_price</th>\n",
              "      <th>ev</th>\n",
              "    </tr>\n",
              "  </thead>\n",
              "  <tbody>\n",
              "    <tr>\n",
              "      <th>0</th>\n",
              "      <td>2001</td>\n",
              "      <td>1855.78</td>\n",
              "      <td>37133.62</td>\n",
              "      <td>1.460</td>\n",
              "      <td>20282</td>\n",
              "    </tr>\n",
              "    <tr>\n",
              "      <th>1</th>\n",
              "      <td>2002</td>\n",
              "      <td>1895.48</td>\n",
              "      <td>37997.76</td>\n",
              "      <td>1.386</td>\n",
              "      <td>36042</td>\n",
              "    </tr>\n",
              "    <tr>\n",
              "      <th>2</th>\n",
              "      <td>2003</td>\n",
              "      <td>1912.60</td>\n",
              "      <td>39490.27</td>\n",
              "      <td>1.603</td>\n",
              "      <td>47566</td>\n",
              "    </tr>\n",
              "    <tr>\n",
              "      <th>3</th>\n",
              "      <td>2004</td>\n",
              "      <td>1967.47</td>\n",
              "      <td>41724.63</td>\n",
              "      <td>1.895</td>\n",
              "      <td>84233</td>\n",
              "    </tr>\n",
              "    <tr>\n",
              "      <th>4</th>\n",
              "      <td>2005</td>\n",
              "      <td>1988.14</td>\n",
              "      <td>44123.41</td>\n",
              "      <td>2.314</td>\n",
              "      <td>205876</td>\n",
              "    </tr>\n",
              "  </tbody>\n",
              "</table>\n",
              "</div>\n",
              "      <button class=\"colab-df-convert\" onclick=\"convertToInteractive('df-4108f97b-57ba-483e-aa2c-1ce5043d5775')\"\n",
              "              title=\"Convert this dataframe to an interactive table.\"\n",
              "              style=\"display:none;\">\n",
              "        \n",
              "  <svg xmlns=\"http://www.w3.org/2000/svg\" height=\"24px\"viewBox=\"0 0 24 24\"\n",
              "       width=\"24px\">\n",
              "    <path d=\"M0 0h24v24H0V0z\" fill=\"none\"/>\n",
              "    <path d=\"M18.56 5.44l.94 2.06.94-2.06 2.06-.94-2.06-.94-.94-2.06-.94 2.06-2.06.94zm-11 1L8.5 8.5l.94-2.06 2.06-.94-2.06-.94L8.5 2.5l-.94 2.06-2.06.94zm10 10l.94 2.06.94-2.06 2.06-.94-2.06-.94-.94-2.06-.94 2.06-2.06.94z\"/><path d=\"M17.41 7.96l-1.37-1.37c-.4-.4-.92-.59-1.43-.59-.52 0-1.04.2-1.43.59L10.3 9.45l-7.72 7.72c-.78.78-.78 2.05 0 2.83L4 21.41c.39.39.9.59 1.41.59.51 0 1.02-.2 1.41-.59l7.78-7.78 2.81-2.81c.8-.78.8-2.07 0-2.86zM5.41 20L4 18.59l7.72-7.72 1.47 1.35L5.41 20z\"/>\n",
              "  </svg>\n",
              "      </button>\n",
              "      \n",
              "  <style>\n",
              "    .colab-df-container {\n",
              "      display:flex;\n",
              "      flex-wrap:wrap;\n",
              "      gap: 12px;\n",
              "    }\n",
              "\n",
              "    .colab-df-convert {\n",
              "      background-color: #E8F0FE;\n",
              "      border: none;\n",
              "      border-radius: 50%;\n",
              "      cursor: pointer;\n",
              "      display: none;\n",
              "      fill: #1967D2;\n",
              "      height: 32px;\n",
              "      padding: 0 0 0 0;\n",
              "      width: 32px;\n",
              "    }\n",
              "\n",
              "    .colab-df-convert:hover {\n",
              "      background-color: #E2EBFA;\n",
              "      box-shadow: 0px 1px 2px rgba(60, 64, 67, 0.3), 0px 1px 3px 1px rgba(60, 64, 67, 0.15);\n",
              "      fill: #174EA6;\n",
              "    }\n",
              "\n",
              "    [theme=dark] .colab-df-convert {\n",
              "      background-color: #3B4455;\n",
              "      fill: #D2E3FC;\n",
              "    }\n",
              "\n",
              "    [theme=dark] .colab-df-convert:hover {\n",
              "      background-color: #434B5C;\n",
              "      box-shadow: 0px 1px 3px 1px rgba(0, 0, 0, 0.15);\n",
              "      filter: drop-shadow(0px 1px 2px rgba(0, 0, 0, 0.3));\n",
              "      fill: #FFFFFF;\n",
              "    }\n",
              "  </style>\n",
              "\n",
              "      <script>\n",
              "        const buttonEl =\n",
              "          document.querySelector('#df-4108f97b-57ba-483e-aa2c-1ce5043d5775 button.colab-df-convert');\n",
              "        buttonEl.style.display =\n",
              "          google.colab.kernel.accessAllowed ? 'block' : 'none';\n",
              "\n",
              "        async function convertToInteractive(key) {\n",
              "          const element = document.querySelector('#df-4108f97b-57ba-483e-aa2c-1ce5043d5775');\n",
              "          const dataTable =\n",
              "            await google.colab.kernel.invokeFunction('convertToInteractive',\n",
              "                                                     [key], {});\n",
              "          if (!dataTable) return;\n",
              "\n",
              "          const docLinkHtml = 'Like what you see? Visit the ' +\n",
              "            '<a target=\"_blank\" href=https://colab.research.google.com/notebooks/data_table.ipynb>data table notebook</a>'\n",
              "            + ' to learn more about interactive tables.';\n",
              "          element.innerHTML = '';\n",
              "          dataTable['output_type'] = 'display_data';\n",
              "          await google.colab.output.renderOutput(dataTable, element);\n",
              "          const docLink = document.createElement('div');\n",
              "          docLink.innerHTML = docLinkHtml;\n",
              "          element.appendChild(docLink);\n",
              "        }\n",
              "      </script>\n",
              "    </div>\n",
              "  </div>\n",
              "  "
            ]
          },
          "metadata": {},
          "execution_count": 63
        }
      ]
    },
    {
      "cell_type": "code",
      "source": [
        "del data[\"year\"]"
      ],
      "metadata": {
        "id": "Nn3PIR8InGH_"
      },
      "execution_count": 64,
      "outputs": []
    },
    {
      "cell_type": "code",
      "source": [
        "data.head()"
      ],
      "metadata": {
        "colab": {
          "base_uri": "https://localhost:8080/",
          "height": 206
        },
        "id": "fHDlvLohm5sp",
        "outputId": "dca2c99a-6644-4ef5-a84a-fd8bd16dfe09"
      },
      "execution_count": 66,
      "outputs": [
        {
          "output_type": "execute_result",
          "data": {
            "text/plain": [
              "   co2_emissions       gdp  gas_price      ev\n",
              "0        1855.78  37133.62      1.460   20282\n",
              "1        1895.48  37997.76      1.386   36042\n",
              "2        1912.60  39490.27      1.603   47566\n",
              "3        1967.47  41724.63      1.895   84233\n",
              "4        1988.14  44123.41      2.314  205876"
            ],
            "text/html": [
              "\n",
              "  <div id=\"df-5d246eed-ac85-49d9-8e06-f5392bd16067\">\n",
              "    <div class=\"colab-df-container\">\n",
              "      <div>\n",
              "<style scoped>\n",
              "    .dataframe tbody tr th:only-of-type {\n",
              "        vertical-align: middle;\n",
              "    }\n",
              "\n",
              "    .dataframe tbody tr th {\n",
              "        vertical-align: top;\n",
              "    }\n",
              "\n",
              "    .dataframe thead th {\n",
              "        text-align: right;\n",
              "    }\n",
              "</style>\n",
              "<table border=\"1\" class=\"dataframe\">\n",
              "  <thead>\n",
              "    <tr style=\"text-align: right;\">\n",
              "      <th></th>\n",
              "      <th>co2_emissions</th>\n",
              "      <th>gdp</th>\n",
              "      <th>gas_price</th>\n",
              "      <th>ev</th>\n",
              "    </tr>\n",
              "  </thead>\n",
              "  <tbody>\n",
              "    <tr>\n",
              "      <th>0</th>\n",
              "      <td>1855.78</td>\n",
              "      <td>37133.62</td>\n",
              "      <td>1.460</td>\n",
              "      <td>20282</td>\n",
              "    </tr>\n",
              "    <tr>\n",
              "      <th>1</th>\n",
              "      <td>1895.48</td>\n",
              "      <td>37997.76</td>\n",
              "      <td>1.386</td>\n",
              "      <td>36042</td>\n",
              "    </tr>\n",
              "    <tr>\n",
              "      <th>2</th>\n",
              "      <td>1912.60</td>\n",
              "      <td>39490.27</td>\n",
              "      <td>1.603</td>\n",
              "      <td>47566</td>\n",
              "    </tr>\n",
              "    <tr>\n",
              "      <th>3</th>\n",
              "      <td>1967.47</td>\n",
              "      <td>41724.63</td>\n",
              "      <td>1.895</td>\n",
              "      <td>84233</td>\n",
              "    </tr>\n",
              "    <tr>\n",
              "      <th>4</th>\n",
              "      <td>1988.14</td>\n",
              "      <td>44123.41</td>\n",
              "      <td>2.314</td>\n",
              "      <td>205876</td>\n",
              "    </tr>\n",
              "  </tbody>\n",
              "</table>\n",
              "</div>\n",
              "      <button class=\"colab-df-convert\" onclick=\"convertToInteractive('df-5d246eed-ac85-49d9-8e06-f5392bd16067')\"\n",
              "              title=\"Convert this dataframe to an interactive table.\"\n",
              "              style=\"display:none;\">\n",
              "        \n",
              "  <svg xmlns=\"http://www.w3.org/2000/svg\" height=\"24px\"viewBox=\"0 0 24 24\"\n",
              "       width=\"24px\">\n",
              "    <path d=\"M0 0h24v24H0V0z\" fill=\"none\"/>\n",
              "    <path d=\"M18.56 5.44l.94 2.06.94-2.06 2.06-.94-2.06-.94-.94-2.06-.94 2.06-2.06.94zm-11 1L8.5 8.5l.94-2.06 2.06-.94-2.06-.94L8.5 2.5l-.94 2.06-2.06.94zm10 10l.94 2.06.94-2.06 2.06-.94-2.06-.94-.94-2.06-.94 2.06-2.06.94z\"/><path d=\"M17.41 7.96l-1.37-1.37c-.4-.4-.92-.59-1.43-.59-.52 0-1.04.2-1.43.59L10.3 9.45l-7.72 7.72c-.78.78-.78 2.05 0 2.83L4 21.41c.39.39.9.59 1.41.59.51 0 1.02-.2 1.41-.59l7.78-7.78 2.81-2.81c.8-.78.8-2.07 0-2.86zM5.41 20L4 18.59l7.72-7.72 1.47 1.35L5.41 20z\"/>\n",
              "  </svg>\n",
              "      </button>\n",
              "      \n",
              "  <style>\n",
              "    .colab-df-container {\n",
              "      display:flex;\n",
              "      flex-wrap:wrap;\n",
              "      gap: 12px;\n",
              "    }\n",
              "\n",
              "    .colab-df-convert {\n",
              "      background-color: #E8F0FE;\n",
              "      border: none;\n",
              "      border-radius: 50%;\n",
              "      cursor: pointer;\n",
              "      display: none;\n",
              "      fill: #1967D2;\n",
              "      height: 32px;\n",
              "      padding: 0 0 0 0;\n",
              "      width: 32px;\n",
              "    }\n",
              "\n",
              "    .colab-df-convert:hover {\n",
              "      background-color: #E2EBFA;\n",
              "      box-shadow: 0px 1px 2px rgba(60, 64, 67, 0.3), 0px 1px 3px 1px rgba(60, 64, 67, 0.15);\n",
              "      fill: #174EA6;\n",
              "    }\n",
              "\n",
              "    [theme=dark] .colab-df-convert {\n",
              "      background-color: #3B4455;\n",
              "      fill: #D2E3FC;\n",
              "    }\n",
              "\n",
              "    [theme=dark] .colab-df-convert:hover {\n",
              "      background-color: #434B5C;\n",
              "      box-shadow: 0px 1px 3px 1px rgba(0, 0, 0, 0.15);\n",
              "      filter: drop-shadow(0px 1px 2px rgba(0, 0, 0, 0.3));\n",
              "      fill: #FFFFFF;\n",
              "    }\n",
              "  </style>\n",
              "\n",
              "      <script>\n",
              "        const buttonEl =\n",
              "          document.querySelector('#df-5d246eed-ac85-49d9-8e06-f5392bd16067 button.colab-df-convert');\n",
              "        buttonEl.style.display =\n",
              "          google.colab.kernel.accessAllowed ? 'block' : 'none';\n",
              "\n",
              "        async function convertToInteractive(key) {\n",
              "          const element = document.querySelector('#df-5d246eed-ac85-49d9-8e06-f5392bd16067');\n",
              "          const dataTable =\n",
              "            await google.colab.kernel.invokeFunction('convertToInteractive',\n",
              "                                                     [key], {});\n",
              "          if (!dataTable) return;\n",
              "\n",
              "          const docLinkHtml = 'Like what you see? Visit the ' +\n",
              "            '<a target=\"_blank\" href=https://colab.research.google.com/notebooks/data_table.ipynb>data table notebook</a>'\n",
              "            + ' to learn more about interactive tables.';\n",
              "          element.innerHTML = '';\n",
              "          dataTable['output_type'] = 'display_data';\n",
              "          await google.colab.output.renderOutput(dataTable, element);\n",
              "          const docLink = document.createElement('div');\n",
              "          docLink.innerHTML = docLinkHtml;\n",
              "          element.appendChild(docLink);\n",
              "        }\n",
              "      </script>\n",
              "    </div>\n",
              "  </div>\n",
              "  "
            ]
          },
          "metadata": {},
          "execution_count": 66
        }
      ]
    },
    {
      "cell_type": "code",
      "source": [
        "# train-test 70-30 split\n",
        "df_train, df_test = train_test_split(data, \n",
        "                                     train_size = 0.7, \n",
        "                                     test_size = 0.3, \n",
        "                                     random_state = 100)"
      ],
      "metadata": {
        "id": "f-tcmCMzi8eS"
      },
      "execution_count": 65,
      "outputs": []
    },
    {
      "cell_type": "code",
      "source": [
        "# divide into X_train, y_train, X_test, y_test\n",
        "y_train = df_train.pop('ev')\n",
        "X_train = df_train\n",
        "\n",
        "y_test = df_test.pop('ev')\n",
        "X_test = df_test"
      ],
      "metadata": {
        "id": "P9tEc9xYmpKO"
      },
      "execution_count": 67,
      "outputs": []
    },
    {
      "cell_type": "code",
      "source": [
        "# step-1: create a cross-validation scheme\n",
        "folds = KFold(n_splits = 5, shuffle = True, random_state = 100)\n",
        "\n",
        "# step-2: specify range of hyperparameters to tune\n",
        "hyper_params = [{'n_features_to_select': list(range(1, 4))}]\n",
        "\n",
        "\n",
        "# step-3: perform grid search\n",
        "# 3.1 specify model\n",
        "lm = LinearRegression()\n",
        "lm.fit(X_train, y_train)\n",
        "rfe = RFE(lm)             \n",
        "\n",
        "# 3.2 call GridSearchCV()\n",
        "model_cv = GridSearchCV(estimator = rfe, \n",
        "                        param_grid = hyper_params, \n",
        "                        scoring= 'r2', \n",
        "                        cv = folds, \n",
        "                        verbose = 1,\n",
        "                        return_train_score=True)      \n",
        "\n",
        "# fit the model\n",
        "model_cv.fit(X_train, y_train)    "
      ],
      "metadata": {
        "colab": {
          "base_uri": "https://localhost:8080/"
        },
        "id": "BFpKunKvniDX",
        "outputId": "e4ed8f93-ca27-407b-8d8e-b64bdc772251"
      },
      "execution_count": 70,
      "outputs": [
        {
          "output_type": "stream",
          "name": "stdout",
          "text": [
            "Fitting 5 folds for each of 3 candidates, totalling 15 fits\n"
          ]
        },
        {
          "output_type": "execute_result",
          "data": {
            "text/plain": [
              "GridSearchCV(cv=KFold(n_splits=5, random_state=100, shuffle=True),\n",
              "             estimator=RFE(estimator=LinearRegression()),\n",
              "             param_grid=[{'n_features_to_select': [1, 2, 3]}],\n",
              "             return_train_score=True, scoring='r2', verbose=1)"
            ]
          },
          "metadata": {},
          "execution_count": 70
        }
      ]
    },
    {
      "cell_type": "code",
      "source": [
        "cv_results = pd.DataFrame(model_cv.cv_results_)\n",
        "cv_results"
      ],
      "metadata": {
        "colab": {
          "base_uri": "https://localhost:8080/",
          "height": 289
        },
        "id": "Suhu6UsYnwMU",
        "outputId": "946effdb-ccc7-465d-c32c-c159fb9d7761"
      },
      "execution_count": 71,
      "outputs": [
        {
          "output_type": "execute_result",
          "data": {
            "text/plain": [
              "   mean_fit_time  std_fit_time  mean_score_time  std_score_time  \\\n",
              "0       0.003606      0.000762         0.001655        0.000329   \n",
              "1       0.004044      0.000925         0.002328        0.000917   \n",
              "2       0.002104      0.000162         0.001578        0.000318   \n",
              "\n",
              "  param_n_features_to_select                       params  split0_test_score  \\\n",
              "0                          1  {'n_features_to_select': 1}          -1.197282   \n",
              "1                          2  {'n_features_to_select': 2}          -1.197812   \n",
              "2                          3  {'n_features_to_select': 3}           0.952845   \n",
              "\n",
              "   split1_test_score  split2_test_score  split3_test_score  ...  \\\n",
              "0          -0.274364           0.442134         -24.212177  ...   \n",
              "1          -0.258815           0.280187         -28.451362  ...   \n",
              "2           0.930029           0.981428          -5.875598  ...   \n",
              "\n",
              "   mean_test_score  std_test_score  rank_test_score  split0_train_score  \\\n",
              "0     -2792.196289     5571.779427                2            0.226485   \n",
              "1     -3545.708135     7076.610729                3            0.226486   \n",
              "2      -620.155441     1238.808058                1            0.919845   \n",
              "\n",
              "   split1_train_score  split2_train_score  split3_train_score  \\\n",
              "0            0.403393            0.227529            0.341948   \n",
              "1            0.404042            0.279048            0.355139   \n",
              "2            0.941033            0.911392            0.982896   \n",
              "\n",
              "   split4_train_score  mean_train_score  std_train_score  \n",
              "0            0.463922          0.332655         0.094493  \n",
              "1            0.488005          0.350544         0.091958  \n",
              "2            0.967470          0.944527         0.027269  \n",
              "\n",
              "[3 rows x 21 columns]"
            ],
            "text/html": [
              "\n",
              "  <div id=\"df-5de28f68-14f2-4dd1-98ed-8b8dee532a6d\">\n",
              "    <div class=\"colab-df-container\">\n",
              "      <div>\n",
              "<style scoped>\n",
              "    .dataframe tbody tr th:only-of-type {\n",
              "        vertical-align: middle;\n",
              "    }\n",
              "\n",
              "    .dataframe tbody tr th {\n",
              "        vertical-align: top;\n",
              "    }\n",
              "\n",
              "    .dataframe thead th {\n",
              "        text-align: right;\n",
              "    }\n",
              "</style>\n",
              "<table border=\"1\" class=\"dataframe\">\n",
              "  <thead>\n",
              "    <tr style=\"text-align: right;\">\n",
              "      <th></th>\n",
              "      <th>mean_fit_time</th>\n",
              "      <th>std_fit_time</th>\n",
              "      <th>mean_score_time</th>\n",
              "      <th>std_score_time</th>\n",
              "      <th>param_n_features_to_select</th>\n",
              "      <th>params</th>\n",
              "      <th>split0_test_score</th>\n",
              "      <th>split1_test_score</th>\n",
              "      <th>split2_test_score</th>\n",
              "      <th>split3_test_score</th>\n",
              "      <th>...</th>\n",
              "      <th>mean_test_score</th>\n",
              "      <th>std_test_score</th>\n",
              "      <th>rank_test_score</th>\n",
              "      <th>split0_train_score</th>\n",
              "      <th>split1_train_score</th>\n",
              "      <th>split2_train_score</th>\n",
              "      <th>split3_train_score</th>\n",
              "      <th>split4_train_score</th>\n",
              "      <th>mean_train_score</th>\n",
              "      <th>std_train_score</th>\n",
              "    </tr>\n",
              "  </thead>\n",
              "  <tbody>\n",
              "    <tr>\n",
              "      <th>0</th>\n",
              "      <td>0.003606</td>\n",
              "      <td>0.000762</td>\n",
              "      <td>0.001655</td>\n",
              "      <td>0.000329</td>\n",
              "      <td>1</td>\n",
              "      <td>{'n_features_to_select': 1}</td>\n",
              "      <td>-1.197282</td>\n",
              "      <td>-0.274364</td>\n",
              "      <td>0.442134</td>\n",
              "      <td>-24.212177</td>\n",
              "      <td>...</td>\n",
              "      <td>-2792.196289</td>\n",
              "      <td>5571.779427</td>\n",
              "      <td>2</td>\n",
              "      <td>0.226485</td>\n",
              "      <td>0.403393</td>\n",
              "      <td>0.227529</td>\n",
              "      <td>0.341948</td>\n",
              "      <td>0.463922</td>\n",
              "      <td>0.332655</td>\n",
              "      <td>0.094493</td>\n",
              "    </tr>\n",
              "    <tr>\n",
              "      <th>1</th>\n",
              "      <td>0.004044</td>\n",
              "      <td>0.000925</td>\n",
              "      <td>0.002328</td>\n",
              "      <td>0.000917</td>\n",
              "      <td>2</td>\n",
              "      <td>{'n_features_to_select': 2}</td>\n",
              "      <td>-1.197812</td>\n",
              "      <td>-0.258815</td>\n",
              "      <td>0.280187</td>\n",
              "      <td>-28.451362</td>\n",
              "      <td>...</td>\n",
              "      <td>-3545.708135</td>\n",
              "      <td>7076.610729</td>\n",
              "      <td>3</td>\n",
              "      <td>0.226486</td>\n",
              "      <td>0.404042</td>\n",
              "      <td>0.279048</td>\n",
              "      <td>0.355139</td>\n",
              "      <td>0.488005</td>\n",
              "      <td>0.350544</td>\n",
              "      <td>0.091958</td>\n",
              "    </tr>\n",
              "    <tr>\n",
              "      <th>2</th>\n",
              "      <td>0.002104</td>\n",
              "      <td>0.000162</td>\n",
              "      <td>0.001578</td>\n",
              "      <td>0.000318</td>\n",
              "      <td>3</td>\n",
              "      <td>{'n_features_to_select': 3}</td>\n",
              "      <td>0.952845</td>\n",
              "      <td>0.930029</td>\n",
              "      <td>0.981428</td>\n",
              "      <td>-5.875598</td>\n",
              "      <td>...</td>\n",
              "      <td>-620.155441</td>\n",
              "      <td>1238.808058</td>\n",
              "      <td>1</td>\n",
              "      <td>0.919845</td>\n",
              "      <td>0.941033</td>\n",
              "      <td>0.911392</td>\n",
              "      <td>0.982896</td>\n",
              "      <td>0.967470</td>\n",
              "      <td>0.944527</td>\n",
              "      <td>0.027269</td>\n",
              "    </tr>\n",
              "  </tbody>\n",
              "</table>\n",
              "<p>3 rows × 21 columns</p>\n",
              "</div>\n",
              "      <button class=\"colab-df-convert\" onclick=\"convertToInteractive('df-5de28f68-14f2-4dd1-98ed-8b8dee532a6d')\"\n",
              "              title=\"Convert this dataframe to an interactive table.\"\n",
              "              style=\"display:none;\">\n",
              "        \n",
              "  <svg xmlns=\"http://www.w3.org/2000/svg\" height=\"24px\"viewBox=\"0 0 24 24\"\n",
              "       width=\"24px\">\n",
              "    <path d=\"M0 0h24v24H0V0z\" fill=\"none\"/>\n",
              "    <path d=\"M18.56 5.44l.94 2.06.94-2.06 2.06-.94-2.06-.94-.94-2.06-.94 2.06-2.06.94zm-11 1L8.5 8.5l.94-2.06 2.06-.94-2.06-.94L8.5 2.5l-.94 2.06-2.06.94zm10 10l.94 2.06.94-2.06 2.06-.94-2.06-.94-.94-2.06-.94 2.06-2.06.94z\"/><path d=\"M17.41 7.96l-1.37-1.37c-.4-.4-.92-.59-1.43-.59-.52 0-1.04.2-1.43.59L10.3 9.45l-7.72 7.72c-.78.78-.78 2.05 0 2.83L4 21.41c.39.39.9.59 1.41.59.51 0 1.02-.2 1.41-.59l7.78-7.78 2.81-2.81c.8-.78.8-2.07 0-2.86zM5.41 20L4 18.59l7.72-7.72 1.47 1.35L5.41 20z\"/>\n",
              "  </svg>\n",
              "      </button>\n",
              "      \n",
              "  <style>\n",
              "    .colab-df-container {\n",
              "      display:flex;\n",
              "      flex-wrap:wrap;\n",
              "      gap: 12px;\n",
              "    }\n",
              "\n",
              "    .colab-df-convert {\n",
              "      background-color: #E8F0FE;\n",
              "      border: none;\n",
              "      border-radius: 50%;\n",
              "      cursor: pointer;\n",
              "      display: none;\n",
              "      fill: #1967D2;\n",
              "      height: 32px;\n",
              "      padding: 0 0 0 0;\n",
              "      width: 32px;\n",
              "    }\n",
              "\n",
              "    .colab-df-convert:hover {\n",
              "      background-color: #E2EBFA;\n",
              "      box-shadow: 0px 1px 2px rgba(60, 64, 67, 0.3), 0px 1px 3px 1px rgba(60, 64, 67, 0.15);\n",
              "      fill: #174EA6;\n",
              "    }\n",
              "\n",
              "    [theme=dark] .colab-df-convert {\n",
              "      background-color: #3B4455;\n",
              "      fill: #D2E3FC;\n",
              "    }\n",
              "\n",
              "    [theme=dark] .colab-df-convert:hover {\n",
              "      background-color: #434B5C;\n",
              "      box-shadow: 0px 1px 3px 1px rgba(0, 0, 0, 0.15);\n",
              "      filter: drop-shadow(0px 1px 2px rgba(0, 0, 0, 0.3));\n",
              "      fill: #FFFFFF;\n",
              "    }\n",
              "  </style>\n",
              "\n",
              "      <script>\n",
              "        const buttonEl =\n",
              "          document.querySelector('#df-5de28f68-14f2-4dd1-98ed-8b8dee532a6d button.colab-df-convert');\n",
              "        buttonEl.style.display =\n",
              "          google.colab.kernel.accessAllowed ? 'block' : 'none';\n",
              "\n",
              "        async function convertToInteractive(key) {\n",
              "          const element = document.querySelector('#df-5de28f68-14f2-4dd1-98ed-8b8dee532a6d');\n",
              "          const dataTable =\n",
              "            await google.colab.kernel.invokeFunction('convertToInteractive',\n",
              "                                                     [key], {});\n",
              "          if (!dataTable) return;\n",
              "\n",
              "          const docLinkHtml = 'Like what you see? Visit the ' +\n",
              "            '<a target=\"_blank\" href=https://colab.research.google.com/notebooks/data_table.ipynb>data table notebook</a>'\n",
              "            + ' to learn more about interactive tables.';\n",
              "          element.innerHTML = '';\n",
              "          dataTable['output_type'] = 'display_data';\n",
              "          await google.colab.output.renderOutput(dataTable, element);\n",
              "          const docLink = document.createElement('div');\n",
              "          docLink.innerHTML = docLinkHtml;\n",
              "          element.appendChild(docLink);\n",
              "        }\n",
              "      </script>\n",
              "    </div>\n",
              "  </div>\n",
              "  "
            ]
          },
          "metadata": {},
          "execution_count": 71
        }
      ]
    },
    {
      "cell_type": "code",
      "source": [
        "# plotting cv results\n",
        "plt.figure(figsize=(16,6))\n",
        "\n",
        "plt.plot(cv_results[\"param_n_features_to_select\"], cv_results[\"mean_test_score\"])\n",
        "plt.plot(cv_results[\"param_n_features_to_select\"], cv_results[\"mean_train_score\"])\n",
        "plt.xlabel('number of features')\n",
        "plt.ylabel('r-squared')\n",
        "plt.title(\"Optimal Number of Features\")\n",
        "plt.legend(['test score', 'train score'], loc='upper left')"
      ],
      "metadata": {
        "colab": {
          "base_uri": "https://localhost:8080/",
          "height": 422
        },
        "id": "S5YCDV3Dn1Lj",
        "outputId": "bb75aa18-8e35-48cb-e456-9cfe66dd669e"
      },
      "execution_count": 72,
      "outputs": [
        {
          "output_type": "execute_result",
          "data": {
            "text/plain": [
              "<matplotlib.legend.Legend at 0x7f96fe813af0>"
            ]
          },
          "metadata": {},
          "execution_count": 72
        },
        {
          "output_type": "display_data",
          "data": {
            "text/plain": [
              "<Figure size 1152x432 with 1 Axes>"
            ],
            "image/png": "[encoded data removed]"
          },
          "metadata": {
            "needs_background": "light"
          }
        }
      ]
    },
    {
      "cell_type": "markdown",
      "source": [
        "R squared is negative.\n",
        "\n",
        "Therefore, no mather we choose 1 feature, 2 feature or 3 features, we cannot give a good model.\n",
        "\n",
        "I think the reason is we are not having enough data."
      ],
      "metadata": {
        "id": "sxXSYKkNrvw7"
      }
    }
  ]
}